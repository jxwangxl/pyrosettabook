{
 "cells": [
  {
   "cell_type": "code",
   "execution_count": null,
   "metadata": {
    "collapsed": true
   },
   "outputs": [],
   "source": [
    "(c) Copyright Rosetta Commons Member Institutions.\n",
    "(c) This file is part of the Rosetta software suite and is made available under license.\n",
    "(c) The Rosetta software is developed by the contributing members of the Rosetta Commons.\n",
    "(c) For more information, see http://www.rosettacommons.org. Questions about this can be\n",
    "(c) addressed to University of Washington CoMotion, email: license@uw.edu."
   ]
  },
  {
   "cell_type": "markdown",
   "metadata": {},
   "source": [
    "## *This uses the older PyRosetta bindings!* c. 2015\n",
    "---\n",
    "\n",
    "## Is PyRosetta really the same as Rosetta???!!!\n",
    "\n",
    "When I originally started using PyRosetta, I used to ask this question myself. Is the energy function in PyRosetta\n",
    "the same as when I run Rosetta? I knew at the time that this was not (necessarily) the case for the scores\n",
    "between Rosetta and Foldit. This is easily seen by taking output from Rosetta and loading it into Foldit.\n",
    "What scores -500 REU in Rosetta proper, might score a whopping 100 pts! in Foldit!??? \n",
    "\n",
    "So again, how do I know that the score I get from PyRosetta is the same as what I would get from Rosetta?\n",
    "This was an important question at the time because I had just begun my quest to convert everyone and everything\n",
    "in our lab over to using PyRosetta (yay Python!). \n",
    "\n",
    "In order to answer this question, I decided that I would score a protein structure under a constant seed value,\n",
    "both under Rosetta using the score_jd2 binary and with PyRosetta until they gave me the same score.\n",
    "\n",
    "\n",
    "Goal: Want to be able to show pyrosetta score and score_jd2 are the same (weights and sums)\n",
    "    \n",
    "\n",
    "Notes: \n",
    "\n",
    "-When you pick a Rosetta scorefunction you are picking weights and which terms are turned on.\n",
    "\n",
    "-Most scores are readily accessible in PyRosetta; however, the hbond terms must be dealt with specially."
   ]
  },
  {
   "cell_type": "markdown",
   "metadata": {},
   "source": [
    "So, assuming you have Rosetta proper installed in your home directory and compiled with gcc on linux,\n",
    "executation of the next line in the notebook (using Shift-Enter) will run Rosetta in the background and \n",
    "generate a score file and a score output pdb.\n",
    "\n",
    "flags\n",
    "\n",
    "-score:weights                                         specify the specific energy function weights file\n",
    "\n",
    "-s                                                     path to the input structure\n",
    "\n",
    "-out:pdb                                               outputs a pdb structure\n",
    "\n",
    "-ignore_unrecognized_res T                             needed for older Rosetta builds to not crash on ligands\n",
    "\n",
    "-constant_seed                                         needed to remove randomness\n",
    "\n",
    "-jran 1                                                needed to remove randomness\n",
    "    "
   ]
  },
  {
   "cell_type": "code",
   "execution_count": null,
   "metadata": {
    "collapsed": false
   },
   "outputs": [],
   "source": [
    "!rm score.sc; rm 2jie_0001.pdb\n",
    "!~/Rosetta/main/source/bin/score_jd2.default.linuxgccdebug -score:weights ./talaris2013 -database ~/Rosetta/main/database -s ../resources/protein_structures/2jie.pdb -out:pdb -ignore_unrecognized_res T -constant_seed -jran 1 -overwrite"
   ]
  },
  {
   "cell_type": "markdown",
   "metadata": {},
   "source": [
    "Excellent, now you should have a score.sc file and a file called 2jie_0001.pdb\n",
    "\n",
    "You should see a line like the following, note the talaris2013\n",
    "```\n",
    "core.scoring.ScoreFunctionFactory: SCOREFUNCTION: talaris2013\n",
    "```\n",
    "\n",
    "We can quickly verify this by running shell commands (precede with !)"
   ]
  },
  {
   "cell_type": "code",
   "execution_count": null,
   "metadata": {
    "collapsed": false
   },
   "outputs": [],
   "source": [
    "!ls"
   ]
  },
  {
   "cell_type": "markdown",
   "metadata": {},
   "source": [
    "Ok, so now we can open the score.sc in a spreadsheet program, or we can using something called a Pandas Dataframe. The next cell will read the score file.\n",
    "\n",
    "If you have not installed Pandas before, try running\n",
    "```\n",
    ">pip install pandas\n",
    "```\n",
    "from the command line and restarting the notebook"
   ]
  },
  {
   "cell_type": "code",
   "execution_count": null,
   "metadata": {
    "collapsed": false
   },
   "outputs": [],
   "source": [
    "import pandas as pd\n",
    "df_ref = pd.read_csv(\"score.sc\",sep='\\s+',header=1)\n",
    "df_ref"
   ]
  },
  {
   "cell_type": "markdown",
   "metadata": {},
   "source": [
    "Looks good, except that first column....."
   ]
  },
  {
   "cell_type": "code",
   "execution_count": null,
   "metadata": {
    "collapsed": false
   },
   "outputs": [],
   "source": [
    "df_ref = df_ref.drop('SCORE:',axis=1)\n",
    "df_ref"
   ]
  },
  {
   "cell_type": "markdown",
   "metadata": {},
   "source": [
    "So, from above we see the total_score is 737.643 REU. Now we have a baseline. \n",
    "\n",
    "Next, we'll try to get PyRosetta to read in and score the same PDB and get the exact same value.\n",
    "\n",
    "\n",
    "###\n",
    "Side Note:\n",
    "Rosetta stores all of the energies on a per energy term, per protein residue bases.\n",
    "\n",
    "For example, if we have a protein that has 2 amino acids (GA) and we look at the scorefile, the term for fa_attr might be -30.0. This is the summation of the fa_attr term from the G residue and the A residue multiplied by the weight of the fa_attr term."
   ]
  },
  {
   "cell_type": "markdown",
   "metadata": {
    "collapsed": true
   },
   "source": [
    "Ideally, a pdb can be passed in with a sfxn and a dataframe of the per residue scores is returned, that way the totals are instantly accesible."
   ]
  },
  {
   "cell_type": "code",
   "execution_count": null,
   "metadata": {
    "collapsed": false
   },
   "outputs": [],
   "source": [
    "from rosetta import *\n",
    "from rosetta.core.scoring.methods import EnergyMethodOptions\n",
    "import pandas as pd\n",
    "\n",
    "rosetta.init('-ignore_unrecognized_res T -constant_seed True -jran 1 ')\n",
    "\n",
    "p = pose_from_file('../resources/protein_structures/2jie.pdb')  #import pose\n",
    "sfxn = rosetta.core.scoring.ScoreFunctionFactory.create_score_function('talaris2013')\n",
    "talaris2013_energy_methods = sfxn.energy_method_options() #have to copy the default energy methods from talaris first\n",
    "\n",
    "emo = EnergyMethodOptions( talaris2013_energy_methods)    #must do this to get per res hbond_bb terms in breakdown\n",
    "emo.hbond_options().decompose_bb_hb_into_pair_energies( True )  # set to true, defaults False\n",
    "sfxn.set_energy_method_options( emo ) #set the sfxn up with the energy method options\n",
    "print sfxn(p)"
   ]
  },
  {
   "cell_type": "markdown",
   "metadata": {},
   "source": [
    "This matches our original, Rosetta run scorefile! Mission accomplished! PyRosetta & Rosetta use the exact same energy function. Now, of course for seasoned developers, of course this is the case since the bindings for PyRosetta are built off of Rosetta's C++ source code. They are one and the same! However, I have found there to be a bit fo misconception around this fact.\n",
    "\n",
    "---\n",
    "---\n",
    "\n",
    "Onto the next thing!!\n",
    "\n",
    "\n",
    "Pandas Dataframes\n",
    "---\n",
    "\n",
    "\n",
    "So wouldn't it be neat if, during the course of a Rosetta simulation, we could query the pose and get back the residue energy of the ith residue? Or perhaps a set of residues that we were interested in? Maybe, in fact, we would like to be able to define an active site by passing in a list of residue number. Imagine having a function that takes a pose and score function and gives back the \"active site energy\".\n",
    "```\n",
    "myactivesite_energy = active_site_energy(pose, sfxn)\n",
    "```\n",
    "This is treated in it's entirety in another notebook (link active site energy calculator)\n",
    "but for now, let's just build the structure. \n",
    "\n",
    "We want to be able to get the weighted, per energy term, per residue score for a pose given a scorefunction.\n",
    "\n",
    "There is a python library which is essentially a spreadsheet on steroids called Pandas Dataframes http://pandas.pydata.org/. Using pandas dataframes, we will construct a 'array' which will allow us access to the energy terms and residue numbers by name and index. For example, to look at all of the protein's fa_atr score terms, we will be able to type\n",
    "```\n",
    "df['fa_atr']\n",
    "```\n",
    "\n",
    "and too look and all of the score terms for the 11th residue, we will be able to type\n",
    "```\n",
    "df.loc[[11]]\n",
    "```\n",
    "\n",
    "The following creates that:"
   ]
  },
  {
   "cell_type": "code",
   "execution_count": null,
   "metadata": {
    "collapsed": false
   },
   "outputs": [],
   "source": [
    "score_types = []\n",
    "for i in range(1, rosetta.core.scoring.end_of_score_type_enumeration+1):\n",
    "    ii = rosetta.core.scoring.ScoreType(i)\n",
    "    if p.energies().weights()[ii] != 0: score_types.append(ii)\n",
    "\n",
    "listofseries = []\n",
    "for j in range(1,p.total_residue()+1):\n",
    "    mydict = {}\n",
    "    for i in score_types:\n",
    "        myweight = p.energies().weights()[i]\n",
    "        mydict['%s' %core.scoring.ScoreTypeManager.name_from_score_type(i)] = myweight*p.energies().residue_total_energies(j)[i]\n",
    "\n",
    "    listofseries.append( pd.Series(mydict))\n",
    "\n",
    "df = pd.DataFrame(listofseries)\n",
    "df.index +=1 #makes index start at 1, not 0. Now, each row refers to its proper residue number (ie resi =1 -> row1)\n",
    "print df\n",
    "print df.sum()          #add another .sum() to get the total protein score\n",
    "print df.sum().sum() "
   ]
  },
  {
   "cell_type": "markdown",
   "metadata": {},
   "source": [
    "So what we got from that last section is the ability to easily access any score term for any residue. Let's say you really care about the fa_atr for residue 10 in your system.\n",
    "```\n",
    "print df['fa_atr'][10]\n",
    "```\n",
    "\n",
    "and below in executable code"
   ]
  },
  {
   "cell_type": "code",
   "execution_count": null,
   "metadata": {
    "collapsed": false
   },
   "outputs": [],
   "source": [
    "df['fa_atr'][10]"
   ]
  },
  {
   "cell_type": "markdown",
   "metadata": {},
   "source": [
    "Well, after all of that work, let's put what we learned into a function so that we can reuse it in the future.\n",
    "\n",
    "This function takes a rosetta Pose and a scorefunction and returns a pandas dataframe so that you can inspect and filter the energies on a per term, per residue basis all in one line!"
   ]
  },
  {
   "cell_type": "code",
   "execution_count": null,
   "metadata": {
    "collapsed": true
   },
   "outputs": [],
   "source": [
    "from rosetta import *\n",
    "from rosetta.core.scoring.methods import EnergyMethodOptions\n",
    "import pandas as pd\n",
    "\n",
    "#### This function is used to get a dataframe of all per residues scores in the pose\n",
    "def dataframe_from_pose_and_sfxn(p, sfxn):\n",
    "    '''\n",
    "    Takes a Rosetta Pose and a scorefunction, then returns a dataframe\n",
    "    of the Per-residues weighted scoreterms, including hbond_bb (which get zeroed out\n",
    "    by default)\n",
    "\n",
    "    '''\n",
    "\n",
    "    sfxn(p)\n",
    "    current_energy_methods_options = sfxn.energy_method_options() #keep current options\n",
    "    emo = EnergyMethodOptions( current_energy_methods_options)    #must do this to get per res hbond_bb terms in breakdown\n",
    "    emo.hbond_options().decompose_bb_hb_into_pair_energies( True )  # set to true, defaults False\n",
    "    sfxn.set_energy_method_options( emo ) #set the sfxn up with the energy method options\n",
    "    \n",
    "\n",
    "    score_types = []\n",
    "    for i in range(1, rosetta.core.scoring.end_of_score_type_enumeration+1):\n",
    "        ii = rosetta.core.scoring.ScoreType(i)\n",
    "        if p.energies().weights()[ii] != 0: score_types.append(ii)\n",
    "        \n",
    "    listofseries = []\n",
    "    for j in range(1,p.total_residue()+1):\n",
    "        mydict = {}\n",
    "        for i in score_types:\n",
    "            \n",
    "            myweight = p.energies().weights()[i]\n",
    "            mydict['%s' %core.scoring.ScoreTypeManager.name_from_score_type(i)] = myweight*p.energies().residue_total_energies(j)[i]\n",
    "\n",
    "        listofseries.append( pd.Series(mydict))\n",
    "\n",
    "    df = pd.DataFrame(listofseries)\n",
    "    df.index +=1\n",
    "    df = df.T\n",
    "    return df"
   ]
  }
 ],
 "metadata": {
  "anaconda-cloud": {},
  "kernelspec": {
   "display_name": "Python [default]",
   "language": "python",
   "name": "python2"
  },
  "language_info": {
   "codemirror_mode": {
    "name": "ipython",
    "version": 2
   },
   "file_extension": ".py",
   "mimetype": "text/x-python",
   "name": "python",
   "nbconvert_exporter": "python",
   "pygments_lexer": "ipython2",
   "version": "2.7.12"
  }
 },
 "nbformat": 4,
 "nbformat_minor": 1
}
