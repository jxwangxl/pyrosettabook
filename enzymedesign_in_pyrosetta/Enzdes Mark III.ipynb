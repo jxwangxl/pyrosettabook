{
 "cells": [
  {
   "cell_type": "markdown",
   "metadata": {},
   "source": [
    "## This uses PyRosetta 4.0 bindings\n",
    "\n",
    "## Enyzme Design with Pyrosetta\n",
    "\n",
    "Thanks to the new version of the PyRosetta bindings (nice work Sergey!) most of the enzdes code now works in python. There are a few things to note along the way. This demo will show you how to run enzyme design in PyRosetta using the files located at https://github.com/dacarlin/bagel-foldit. That location has a PDB file, an enzyme design file, params file (and rotamers)\n",
    "\n",
    "Note: Try \"git clone https://github.com/dacarlin/bagel-foldit\" in the same directory that you have this notebook. Also, you must have already downloaded and pip installed pyrosetta4 bindings to your python. This assumes you have Anaconda's python 2.7 installed as well.\n",
    "\n",
    "You can always pass your extra desired options into the pyrosetta.init string\n",
    "\n",
    "This is not entirely reproducing the xml as of yet- but seems to be giving similar results"
   ]
  },
  {
   "cell_type": "code",
   "execution_count": null,
   "metadata": {
    "collapsed": false
   },
   "outputs": [],
   "source": [
    "import rosetta\n",
    "import pyrosetta\n",
    "pyrosetta.init('-extra_res_fa ./bagel-foldit/cid92930.params -run:preserve_header T')"
   ]
  },
  {
   "cell_type": "code",
   "execution_count": null,
   "metadata": {
    "collapsed": false
   },
   "outputs": [],
   "source": [
    "p = pyrosetta.pose_from_file('./bagel-foldit/bagel.pdb')"
   ]
  },
  {
   "cell_type": "code",
   "execution_count": null,
   "metadata": {
    "collapsed": false
   },
   "outputs": [],
   "source": [
    "print pyrosetta.rosetta.basic.options.get_boolean_option(\"run:preserve_header\")"
   ]
  },
  {
   "cell_type": "code",
   "execution_count": null,
   "metadata": {
    "collapsed": false
   },
   "outputs": [],
   "source": [
    "# This must be turned on globally for the enable_cst_scorefunction to turn on the fnr term (which is actually res_type_constraint, see protocols:protein_design_interface:design_utils)\n",
    "# and also see protocols.enzdes.endes_utils\n",
    "# Note, how we can print the value before and after it's set to verify our changes\n",
    "\n",
    "print pyrosetta.rosetta.basic.options.get_real_option('enzdes:favor_native_res')\n",
    "pyrosetta.rosetta.basic.options.set_real_option('enzdes:favor_native_res',2.0)\n",
    "\n",
    "print pyrosetta.rosetta.basic.options.get_real_option('enzdes:lig_packer_weight')\n",
    "pyrosetta.rosetta.basic.options.set_real_option('enzdes:lig_packer_weight',1.5)\n",
    "#print pyrosetta.rosetta.basic.options.get_real_option('enzdes:lig_packer_weight')\n",
    "\n",
    "## These must be set globally for the detect_ligand_interace to work, there should be getters and setters, but \n",
    "## as of today, there aren't any\n",
    "print pyrosetta.rosetta.basic.options.get_real_option('enzdes:cut1')\n",
    "print pyrosetta.rosetta.basic.options.get_real_option('enzdes:cut2')\n",
    "print pyrosetta.rosetta.basic.options.get_real_option('enzdes:cut3')\n",
    "print pyrosetta.rosetta.basic.options.get_real_option('enzdes:cut4')\n",
    "print pyrosetta.rosetta.basic.options.get_boolean_option('enzdes:detect_design_interface')\n",
    "\n",
    "pyrosetta.rosetta.basic.options.set_real_option('enzdes:cut1',10.0)\n",
    "pyrosetta.rosetta.basic.options.set_real_option('enzdes:cut2',10.0)\n",
    "pyrosetta.rosetta.basic.options.set_real_option('enzdes:cut3',12.0)\n",
    "pyrosetta.rosetta.basic.options.set_real_option('enzdes:cut4',14.0)\n",
    "pyrosetta.rosetta.basic.options.set_boolean_option('enzdes:detect_design_interface',True)\n",
    "\n",
    "\n",
    "#print pyrosetta.rosetta.basic.options.get_real_option('enzdes:lig_packer_weight')\n",
    "#print pyrosetta.rosetta.basic.options.get_real_option('enzdes:cut1')"
   ]
  },
  {
   "cell_type": "code",
   "execution_count": null,
   "metadata": {
    "collapsed": false
   },
   "outputs": [],
   "source": [
    "print pyrosetta.rosetta.basic.options.get_real_option('enzdes:cut1')\n",
    "print pyrosetta.rosetta.basic.options.get_real_option('enzdes:cut2')\n",
    "print pyrosetta.rosetta.basic.options.get_real_option('enzdes:cut3')\n",
    "print pyrosetta.rosetta.basic.options.get_real_option('enzdes:cut4')"
   ]
  },
  {
   "cell_type": "code",
   "execution_count": null,
   "metadata": {
    "collapsed": true
   },
   "outputs": [],
   "source": [
    "# Optional, if you want to watch in Pymol\n",
    "pm = rosetta.protocols.moves.PyMolMover()\n",
    "pm.keep_history(True)\n",
    "pm.apply(p) ## Note, this started the Pymol counter to state 1 (view at bottom right hand corner)"
   ]
  },
  {
   "cell_type": "code",
   "execution_count": null,
   "metadata": {
    "collapsed": true
   },
   "outputs": [],
   "source": [
    "## Setup Scorefunctions\n",
    "\n",
    "# get a generic scorefxn\n",
    "sfxn = pyrosetta.get_fa_scorefxn()\n",
    "\n",
    "# This turns on certain scorefunction terms associated with constraints (but not all of them!)\n",
    "rosetta.protocols.enzdes.enzutil.enable_constraint_scoreterms(sfxn)\n",
    "\n",
    "# The following 2 lines are an alternative way to turn on select/or more constraint terms in your score function\n",
    "#for cstterm in 'coordinate_constraint atom_pair_constraint angle_constraint dihedral_constraint res_type_constraint'.split():\n",
    "#    sfxn.set_weight( rosetta.core.scoring.ScoreTypeManager.score_type_from_name( cstterm ), 1.0  )\n",
    "\n",
    "\n",
    "# Also, get a soft_rep score function, here the weights for fa_rep are turned down so that\n",
    "# when new residues are designed in, if they are clashing before repacking, it won't be immediately\n",
    "# discarded as bad in energy.\n",
    "soft_rep = rosetta.core.scoring.ScoreFunctionFactory.create_score_function(\"soft_rep\")"
   ]
  },
  {
   "cell_type": "code",
   "execution_count": null,
   "metadata": {
    "collapsed": true
   },
   "outputs": [],
   "source": [
    "mm = pyrosetta.MoveMap()\n",
    "mm.show(p.total_residue())"
   ]
  },
  {
   "cell_type": "code",
   "execution_count": null,
   "metadata": {
    "collapsed": false
   },
   "outputs": [],
   "source": [
    "## Setup movers!\n",
    "\n",
    "# Create the AddorRemoveMatchCsts object, read in the file, and apply/add them to the pose\n",
    "addcsts = rosetta.protocols.enzdes.AddOrRemoveMatchCsts()\n",
    "addcsts.cstfile('bagel-foldit/cid92930.enzdes.cst')\n",
    "addcsts.set_cst_action( rosetta.protocols.enzdes.CstAction.ADD_NEW )\n",
    "addcsts.apply(p)\n",
    "\n",
    "# This is the enzdes generic move-the-ligand-around sampling mover\n",
    "predock = rosetta.protocols.enzdes.PredesignPerturbMover()\n",
    "predock.trans_magnitude(0.1)\n",
    "predock.rot_magnitude(2)\n",
    "## This set ligand must be set to the ligand, here it is hard coded for the example\n",
    "predock.set_ligand(446) # or p.n_total() Assumes the ligand is the last\n",
    "\n",
    "## These two objects/movers are the business end of enzdes in rosetta. They setup the object, some options,\n",
    "## with the only difference here being the second one turns backbone (bb) minimziations on\n",
    "enzdes = rosetta.protocols.enzdes.EnzRepackMinimize()\n",
    "enzdes.set_scorefxn_minimize(sfxn)\n",
    "enzdes.set_scorefxn_repack(soft_rep)\n",
    "enzdes.set_min_lig(True)\n",
    "enzdes.set_min_rb(True)\n",
    "enzdes.set_min_sc(True)\n",
    "enzdes.set_design(True)\n",
    "\n",
    "enzdes_wbb = rosetta.protocols.enzdes.EnzRepackMinimize()\n",
    "enzdes_wbb.set_scorefxn_minimize(sfxn)\n",
    "enzdes_wbb.set_min_lig(True)\n",
    "enzdes_wbb.set_min_rb(True)\n",
    "enzdes_wbb.set_min_sc(True)\n",
    "enzdes_wbb.set_design(True)\n",
    "enzdes_wbb.set_scorefxn_repack(soft_rep)\n",
    "enzdes_wbb.set_min_bb(True)\n",
    "\n",
    "## Notes for the future\n",
    "\n",
    "# min in stages?  # further investigation required here\n",
    "# backrub? # further investigation required here\n",
    "\n",
    "# Now score the protein (this includes the constraints in the score)\n",
    "sfxn(p) # you need this for nbr graph to populate"
   ]
  },
  {
   "cell_type": "code",
   "execution_count": null,
   "metadata": {
    "collapsed": false
   },
   "outputs": [],
   "source": [
    "# Setup task opertations and add them to the enzdes movers\n",
    "\n",
    "tf = rosetta.core.pack.task.TaskFactory()\n",
    "\n",
    "# Sets up the packing/design shells from the global options set above\n",
    "dp = rosetta.protocols.enzdes.DetectProteinLigandInterface()\n",
    "dp.init_from_options()\n",
    "\n",
    "## Applies the enigmatic Task Operation LimitAromaticChi2 operation to the packer task.\n",
    "## This is one of those legacy operations that you have to ask the Rosetta elders to explain\n",
    "## Rosetta source credits Nobuyasu for this TO\n",
    "limchi2 = rosetta.protocols.toolbox.task_operations.LimitAromaChi2Operation()\n",
    "\n",
    "# This restricts the residues define in the constraint file to only be allowed to pack, not designable\n",
    "canttouchcatres = rosetta.protocols.enzdes.SetCatalyticResPackBehavior()\n",
    "canttouchcatres.set_fix_catalytic_aa(False) ## seems to freeze them, no repacking if set to True\n",
    "\n",
    "# Push back all of our TO's onto the task factory (see Design Patterns on Factorys)\n",
    "tf.push_back(dp)\n",
    "tf.push_back(canttouchcatres)\n",
    "tf.push_back(limchi2)\n",
    "\n",
    "# Create a packer task, specifically for the cstopt mover to work\n",
    "pt = tf.create_task_and_apply_taskoperations(p)\n",
    "\n",
    "enzdes.task_factory( tf ) # sets the enzdes movers to use our task factory set with our task operations \n",
    "enzdes_wbb.task_factory( tf )"
   ]
  },
  {
   "cell_type": "code",
   "execution_count": null,
   "metadata": {
    "collapsed": false,
    "scrolled": true
   },
   "outputs": [],
   "source": [
    "# Just leaving this here as an example, but this allows for manual inspection of your packer task \n",
    "# after all of the task operations have been applied. You could also apply one at a time to verify how\n",
    "# they are working and that they are indeed working.\n",
    "\n",
    "for i in xrange(1,p.total_residue()+1):\n",
    "    print i,pt.being_designed(i),pt.being_packed(i)"
   ]
  },
  {
   "cell_type": "code",
   "execution_count": null,
   "metadata": {
    "collapsed": false
   },
   "outputs": [],
   "source": [
    "print pt"
   ]
  },
  {
   "cell_type": "code",
   "execution_count": null,
   "metadata": {
    "collapsed": false
   },
   "outputs": [],
   "source": [
    "# Warning, what follows is a bunch of **** all because there is not a getter/setter\n",
    "# for cst_opt in the enzdesmovers\n",
    "\n",
    "# Mover sub-classing -----------------------------------                                                         \n",
    "# Thank you Sergey!\n",
    "#\n",
    "class My_New_Mover(rosetta.protocols.moves.Mover):\n",
    "    def __init__(self,sfxn,pt):\n",
    "        print( 'My_New_Mover.__init__...' )\n",
    "        rosetta.protocols.moves.Mover.__init__(self)\n",
    "        self.sfxn = sfxn\n",
    "        self.pt = pt\n",
    "        \n",
    "    def get_name(self): return 'My_New_Mover'\n",
    "\n",
    "    def apply(self, p):\n",
    "        #print( 'My_New_Mover.apply:', type(p) )\n",
    "        #print( 'This My_New_Mover apply...' )\n",
    "\n",
    "        cstopt = rosetta.protocols.enzdes.EnzdesBaseProtocol()\n",
    "        cstopt.set_scorefxn( self.sfxn )\n",
    "        cstopt.set_minimize_options(True, False, True, True) # check this fn signature for details\n",
    "        \n",
    "        # this actuall runs the minimizer !\n",
    "        cstopt.cst_minimize(p, self.pt, True)\n",
    "\n",
    "cstopt = My_New_Mover(sfxn,pt)\n",
    "\n",
    "## Note that a mover must have an apply function that takes a pose and does something to it\n",
    "## in this case, cst opt derives from Enzdesbase protocol, but in the xml it's call from an option in\n",
    "## the enzdesrepackmin mover... blah blah blah, long story short, this ends up working in pyrosetta since\n",
    "## there are currently no setters for this option in the enzrepackmin mover... this needs to be fixed"
   ]
  },
  {
   "cell_type": "code",
   "execution_count": null,
   "metadata": {
    "collapsed": false
   },
   "outputs": [],
   "source": [
    "## Now we string all of our movers together so that one mover can be fed into the generic monte carlo\n",
    "\n",
    "parsed = rosetta.protocols.moves.SequenceMover()\n",
    "parsed.add_mover(pm) # state 2, nothing should have changed\n",
    "parsed.add_mover(predock)\n",
    "parsed.add_mover(pm)  # state 3, only the ligand should have moved\n",
    "parsed.add_mover(cstopt)\n",
    "parsed.add_mover(pm)  # state 4 , the constraints should be optimized/satisfied\n",
    "parsed.add_mover(enzdes)\n",
    "parsed.add_mover(pm) # state 5, designing and packing within the shells\n",
    "parsed.add_mover(enzdes_wbb)\n",
    "parsed.add_mover(pm) # state 6, now, the backbone might have minor perturbations (sometimes barely noticeable)\n",
    "## These states track with running\n",
    "## a simulation for testing using \"mc.apply(p)\""
   ]
  },
  {
   "cell_type": "code",
   "execution_count": null,
   "metadata": {
    "collapsed": true
   },
   "outputs": [],
   "source": [
    "## now we setup the Generic Monte Carlo object to run the simulation, this will run our sequence mover/parsedprotocol\n",
    "## for X cycles, you can set the criterion (sfxn) and filters and other stuff\n",
    "\n",
    "# The XML line looks like this\n",
    "##<GenericMonteCarlo name=multi_dd mover_name=dock_des filter_name=allcst trials=10 sample_type=low temperature=0.6 drift=1\\/>\n",
    "\n",
    "mc = rosetta.protocols.simple_moves.GenericMonteCarloMover()\n",
    "mc.set_drift(True) # this sets drift for the maxtrials (not technically mc anymore)\n",
    "mc.set_maxtrials(1)  # CHANGE THIS TO 10 for real runs\n",
    "mc.set_sampletype('low')\n",
    "mc.set_temperature(0.6)\n",
    "mc.set_mover(parsed)\n",
    "mc.set_scorefxn(sfxn)\n",
    "#mc.apply(p)"
   ]
  },
  {
   "cell_type": "code",
   "execution_count": null,
   "metadata": {
    "collapsed": false
   },
   "outputs": [],
   "source": [
    "# This is how you would normally run for nstruct 10\n",
    "# Note: This is not actually necessary depending on your goals, you can\n",
    "# also mc.apply(p), or store the energies over the simulation, or p.dump_pdb() etc.\n",
    "nstruct = 2\n",
    "job_output = 'test_output'\n",
    "jd = pyrosetta.PyJobDistributor(job_output, nstruct, sfxn)\n",
    "temp_pose = rosetta.core.pose.Pose()    # a temporary pose to export to PyMOL                                                                     \n",
    "temp_pose.assign(p)\n",
    "counter = 0    # for pretty output to PyMOL                                                                                     \n",
    "\n",
    "while not jd.job_complete:\n",
    "    \n",
    "    counter += 1\n",
    "    \n",
    "    test_pose = rosetta.core.pose.Pose()\n",
    "    # set staring pose to input pose\n",
    "    test_pose.assign(p)    \n",
    "    # change pose name for pretty viewing in PyMol\n",
    "    test_pose.pdb_info().name(job_output + '_' + str(counter))\n",
    "\n",
    "    # apply mc mover (with all of the stuff)\n",
    "    mc.apply(test_pose)\n",
    "    \n",
    "    # have the jd output the resulting low energy model\n",
    "    jd.output_decoy(test_pose)\n",
    "\n"
   ]
  }
 ],
 "metadata": {
  "anaconda-cloud": {},
  "kernelspec": {
   "display_name": "Python [default]",
   "language": "python",
   "name": "python2"
  },
  "language_info": {
   "codemirror_mode": {
    "name": "ipython",
    "version": 2
   },
   "file_extension": ".py",
   "mimetype": "text/x-python",
   "name": "python",
   "nbconvert_exporter": "python",
   "pygments_lexer": "ipython2",
   "version": "2.7.12"
  }
 },
 "nbformat": 4,
 "nbformat_minor": 0
}
