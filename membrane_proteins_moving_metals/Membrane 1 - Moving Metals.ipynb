{
 "cells": [
  {
   "cell_type": "code",
   "execution_count": null,
   "metadata": {
    "collapsed": true
   },
   "outputs": [],
   "source": [
    "(c) Copyright Rosetta Commons Member Institutions.\n",
    "(c) This file is part of the Rosetta software suite and is made available under license.\n",
    "(c) The Rosetta software is developed by the contributing members of the Rosetta Commons.\n",
    "(c) For more information, see http://www.rosettacommons.org. Questions about this can be\n",
    "(c) addressed to University of Washington CoMotion, email: license@uw.edu."
   ]
  },
  {
   "cell_type": "markdown",
   "metadata": {},
   "source": [
    "## Must use new PyRosetta 4.0 bindings\n",
    "\n",
    "Imagine you are a computational membrane protein researcher ( or imagine there is one on you thesis comittee (Hi V!) ) and you would like to do something as seen below. \n",
    "\n",
    "As seen in the gif, we would like to open up a membrane protein in Rosetta, add a metal and sampling with repacking the residues around the metal in steps. This notebook describes how to accomplish this in PyRosetta."
   ]
  },
  {
   "cell_type": "code",
   "execution_count": 6,
   "metadata": {
    "collapsed": false
   },
   "outputs": [
    {
     "data": {
      "text/html": [
       "<img src=\"../resources/images/mp.gif\">"
      ],
      "text/plain": [
       "<IPython.core.display.HTML object>"
      ]
     },
     "metadata": {},
     "output_type": "display_data"
    }
   ],
   "source": [
    "from IPython.core.display import display, HTML\n",
    "display(HTML('<img src=\"../resources/images/mp.gif\">'))"
   ]
  },
  {
   "cell_type": "markdown",
   "metadata": {},
   "source": [
    "We will resort to our normal tricks, here we have borrowed form Rosetta's tests to get a set of files for membrane proteins. We will read in the protein, setup the pymol viewer, add the membrane... blah blah blah...there are a lot of details here that I have not yet filled in.... maybe I'll go ask Vladimir...."
   ]
  },
  {
   "cell_type": "code",
   "execution_count": null,
   "metadata": {
    "collapsed": false
   },
   "outputs": [],
   "source": [
    "import rosetta\n",
    "import pyrosetta\n",
    "\n",
    "\n",
    "pyrosetta.init('-ignore_unrecognized_res T')\n",
    "pyrosetta.rosetta.basic.options.set_string_option('in:file:spanfile', '1bl8.span')\n",
    "\n",
    "p = pyrosetta.pose_from_file('1bl8.nometal.pdb')\n",
    "\n",
    "# setup pymol mover\n",
    "pymolmover = pyrosetta.PyMolMover() #PyMOLMover()\n",
    "pymolmover.keep_history(True)\n",
    "pymolmover.apply(p)\n",
    "\n",
    "## Add membrane to pose from span file\n",
    "memadd = rosetta.protocols.membrane.AddMembraneMover()\n",
    "memadd.spanfile('1bl8.span')\n",
    "memadd.get_spanfile()\n",
    "\n",
    "memadd.apply(p) # One of the membrane.util functions dies with metals (no CA for COM calculation)\n",
    "pymolmover.apply(p)\n",
    "\n",
    "## Step 1\n",
    "## setup membrane position\n",
    "setmempos = rosetta.protocols.membrane.SetMembranePositionMover()\n",
    "setmempos.apply(p)\n",
    "pymolmover.apply(p)\n",
    "\n",
    "### Step 2\n",
    "## transform protein into membrane\n",
    "transformintomem = rosetta.protocols.membrane.TransformIntoMembraneMover()\n",
    "transformintomem.use_default_membrane( True )\n",
    "transformintomem.apply(p)\n",
    "pymolmover.apply(p)\n",
    "\n",
    "### Step 3\n",
    "## optimize the position of the protein in the membrane (rotations)\n",
    "optproteinpos = rosetta.protocols.membrane.OptimizeProteinEmbeddingMover()\n",
    "optproteinpos.apply(p)\n",
    "pymolmover.apply(p)\n",
    "\n",
    "## Create a potassium ion residue\n",
    "restypes = rosetta.core.chemical.ChemicalManager.get_instance().residue_type_set(\"fa_standard\")\n",
    "potassium = restypes.get_representative_type_name3(\"K  \")\n",
    "confk = rosetta.core.conformation.Residue( potassium, True)\n",
    "\n",
    "# see what jump to attach it after\n",
    "#print p.num_jump()\n",
    "\n",
    "## add the potassium residue by jump, so that it's DOF's are independent of the rest of the protein\n",
    "p.append_residue_by_jump(confk,5)\n",
    "pymolmover.apply(p)\n",
    "\n",
    "## move the potassiumn to the center of mass of protein\n",
    "comxyz = rosetta.core.pose.center_of_mass(p,1,p.total_residue())\n",
    "p.set_xyz( rosetta.core.id.AtomID(1,390), comxyz )\n",
    "pymolmover.apply(p)\n",
    "\n",
    "# grab a sfxn\n",
    "sfxn = pyrosetta.get_fa_scorefxn()"
   ]
  },
  {
   "cell_type": "code",
   "execution_count": null,
   "metadata": {
    "collapsed": false
   },
   "outputs": [],
   "source": [
    "# Now in this loop, we will step down 1 A at a time, setup a test pose,\n",
    "# use the neighbor selector to select residues within 10A to repack\n",
    "# freeze everything else, and apply the  repack operation\n",
    "for i in range(0,10):\n",
    "    #print i\n",
    "    # step down in Z direction\n",
    "    step_z_xyz = rosetta.numeric.xyzVector_double_t(0,0,i)\n",
    "    p.set_xyz( rosetta.core.id.AtomID(1,390), comxyz + step_z_xyz )\n",
    "    \n",
    "    # copy into testpose\n",
    "    test_pose = rosetta.core.pose.Pose()\n",
    "    test_pose.assign(p)\n",
    "    sfxn(test_pose) # update neighbor graphs, you must do this before using nbr selector\n",
    "    pymolmover.apply(test_pose)\n",
    "\n",
    "    ## Get a packer task\n",
    "    task = pyrosetta.standard_packer_task(test_pose)\n",
    "    ## turn design off (it is on by default)\n",
    "    task.restrict_to_repacking()\n",
    "    nbrselect = rosetta.core.select.residue_selector.NeighborhoodResidueSelector()\n",
    "    nbrselect.set_focus('390')\n",
    "    nbrselect.set_distance(10.0) \n",
    "\n",
    "    ## get the inverse of the neighbor selection (everything else, we want to freeze these)\n",
    "    notnbr =rosetta.core.select.residue_selector.NotResidueSelector(nbrselect)    \n",
    "    nopackTO = rosetta.core.pack.task.operation.PreventRepackingRLT()\n",
    "    op = rosetta.core.pack.task.operation.OperateOnResidueSubset( nopackTO, notnbr)\n",
    "    ## Operate on our packer task with this operation\n",
    "    op.apply(test_pose,task)\n",
    "\n",
    "    # in case you want to visually look at the packer task\n",
    "#    print  \"Residue No.    DesignOn?    PackingOn?\"\n",
    "#     #for i in xrange(1,test_pose.total_residue()+1):\n",
    "#     #    print i,task.being_designed(i),task.being_packed(i)\n",
    "\n",
    "#   print sfxn(test_pose) ## get score before repacking\n",
    "    # dump the pose after the metal is moved and before it is repacked\n",
    "#    test_pose.dump_pdb('pre_pack_step_%s.pdb' %str(i))\n",
    "    packmem = rosetta.protocols.simple_moves.PackRotamersMover(sfxn,task)\n",
    "    packmem.apply(test_pose)\n",
    "\n",
    "    #   print sfxn(test_pose) ## get score after repacking\n",
    "    # dump pdb after packing to look at the difference\n",
    "    #    test_pose.dump_pdb('post_pack_step_%s.pdb' %str(i))\n",
    "    \n",
    "    pymolmover.apply(test_pose)\n"
   ]
  }
 ],
 "metadata": {
  "anaconda-cloud": {},
  "kernelspec": {
   "display_name": "Python [default]",
   "language": "python",
   "name": "python2"
  },
  "language_info": {
   "codemirror_mode": {
    "name": "ipython",
    "version": 2
   },
   "file_extension": ".py",
   "mimetype": "text/x-python",
   "name": "python",
   "nbconvert_exporter": "python",
   "pygments_lexer": "ipython2",
   "version": "2.7.12"
  }
 },
 "nbformat": 4,
 "nbformat_minor": 0
}
