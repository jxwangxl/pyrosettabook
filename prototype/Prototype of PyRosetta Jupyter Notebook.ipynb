{
 "cells": [
  {
   "cell_type": "code",
   "execution_count": 1,
   "metadata": {
    "collapsed": false
   },
   "outputs": [
    {
     "data": {
      "text/html": [
       "<style>\n",
       "\n",
       "/*  Steve Bertolani 2017 for PyRosetta Jupyter Notebook project\n",
       "    Adapted from.....\n",
       "\n",
       "    Name:       Base16 3024 Dark\n",
       "    Author:     Jan T. Sott (http://github.com/idleberg)\n",
       "\n",
       "    CodeMirror template adapted for IPython Notebook by Nikhil Sonnad (https://github.com/nsonnad/base16-ipython-notebook)\n",
       "    CodeMirror template by Jan T. Sott (https://github.com/idleberg/base16-chrome-devtools)\n",
       "    Original Base16 color scheme by Chris Kempson (https://github.com/chriskempson/base16)\n",
       "*/\n",
       "// Text styling\n",
       "\n",
       "\n",
       "@font-face {\n",
       "//    font-family: \"Computer Modern\";\n",
       "//    src: url('http://9dbb143991406a7c655e-aa5fcb0a5a4ec34cff238a2d56ca4144.r56.cf5.rackcdn.com/cmunss.otf');\n",
       "//}\n",
       "\n",
       "\n",
       "\n",
       "/* GLOBALS */\n",
       "body {background-color: #ffcc99;}\n",
       "a {color: #01a0e4;}\n",
       "\n",
       "\n",
       "\n",
       "/* INTRO PAGE */\n",
       ".toolbar_info, .list_container {color: #d6d5d4;}\n",
       "\n",
       "/* NOTEBOOK */\n",
       "\n",
       "/* comment out this line to bring the toolbar back */\n",
       "//div#maintoolbar, div#header {display: none !important;}\n",
       "\n",
       "/* hides the numbers [1] at cell execution */\n",
       "div.prompt {display:none}\n",
       "\n",
       "/* sets external boundary color */\n",
       "div#notebook {border-top: none;\n",
       "\t           background-color: #eee8d5;}\n",
       "\n",
       "\n",
       "div#notebook-container {\n",
       "        background-color: #fdf6e3;\n",
       "}\n",
       "\n",
       "div.input_prompt {color: #cdab53;}\n",
       "//div.output_prompt {color: #a16a94;}\n",
       "//div.output_prompt {color: #000000;}\n",
       "\n",
       "/* fills in the white margin for the code input */\n",
       "div.input_area {\n",
       "    background-color: #fdf6e3;\n",
       "    //  border-radius: 0px;\n",
       "    border: 0px solid #4a4543;\n",
       "\n",
       "}\n",
       "\n",
       "/* color of output cells in text */\n",
       "div.output_area pre {font-weight: normal; color: #657b83;}\n",
       "div.output_subarea {font-weight: normal; color: #657b83;}\n",
       "\n",
       "\n",
       "/* Styling for rendered html markdon*/\n",
       ".rendered_html table, .rendered_html th, .rendered_html tr, .rendered_html td {\n",
       "  border: 1px  #a5a2a2 solid;\n",
       "  /*  color: #a5a2a2; */\n",
       "/* http://www.zovirl.com/2011/07/22/solarized_cheat_sheet/ */\n",
       "  color: #657b83;\n",
       "//  margin:auto;  \n",
       "\n",
       "}\n",
       "\n",
       ".rendered_html {\n",
       "//    margin:auto;\n",
       "}\n",
       "\n",
       "div.output_html { font-family: courier-new; }\n",
       "\n",
       "\n",
       "table.dataframe tr {border: 1px #a5a2a2;}\n",
       "\n",
       "div.cell.selected {border-radius: 0px;}\n",
       "div.cell.edit_mode {border-radius: 0px; border: thin solid #a16a94;}\n",
       "/* colorin for normal type cells*/\n",
       "div.text_cell_render, div.output_html {\n",
       "    color: #000000;\n",
       "\n",
       "}\n",
       "\n",
       "/* for all default text */\n",
       "div.text_cell_render p {\n",
       "    font-size: 120%;\n",
       "    text-align: left;\n",
       "//    padding-left: 2cm;\n",
       "}\n",
       "/* for emphasis */\n",
       "div.text_cell_render p em  {\n",
       "//    background-color: #eee8d5;\n",
       "    font-weight: bold;\n",
       "}\n",
       "\n",
       "\n",
       "//#span.ansiblack {color: #3a3432;}\n",
       "span.ansiblack {color: #d3d3d3;}\n",
       "span.ansiblue {color: #b5e4f4;}\n",
       "span.ansigray {color: #807d7c;}\n",
       "span.ansigreen {color: #01a252;}\n",
       "span.ansipurple {color: #a16a94;}\n",
       "span.ansired {color: #db2d20;}\n",
       "span.ansiyellow {color: #fded02;}\n",
       "\n",
       "div.output_stderr {background-color: #657b83;}\n",
       "\n",
       "/* controls the margin for stdout output */\n",
       "div.output_stdout {\n",
       "    background-color: #ffffff;\n",
       "    margin-left:100px;\n",
       "    margin-right:100px;\n",
       "}\n",
       "\n",
       "/* For things like the pandas dataframe output */\n",
       "div.output_result {\n",
       "    margin-left:100px;\n",
       "    margin-right:100px;\n",
       "    text-align: center;\n",
       "}\n",
       "\n",
       "div.output_stderr pre {color: #d6d5d4;}\n",
       "\n",
       "\n",
       "\n",
       "div.output_subarea.output_text { color: #657b83; }\n",
       "\n",
       "\n",
       "/* Next line defines color of code cell*/\n",
       ".cm-s-ipython.CodeMirror {background: #073642;\n",
       "\t\t\t  color: #d6d5d4;\n",
       "\t\t\t  margin-right: 100px;\n",
       "\t\t\t  margin-left: 100px;\n",
       "\t\t\t }\n",
       "/* .cm-s-ipython div.CodeMirror-selected {background: #3a3432 !important;} */\n",
       ".cm-s-ipython div.CodeMirror-selected {background: #d3d3d3 !important;}\n",
       ".cm-s-ipython .CodeMirror-gutters {background: #090300; border-right: 0px;}\n",
       ".cm-s-ipython .CodeMirror-linenumber {color: #5c5855;}\n",
       ".cm-s-ipython .CodeMirror-cursor {border-left: 1px solid #807d7c !important;}\n",
       "\n",
       ".cm-s-ipython span.cm-comment {color: #cdab53;}\n",
       ".cm-s-ipython span.cm-atom {color: #a16a94;}\n",
       ".cm-s-ipython span.cm-number {color: #a16a94;}\n",
       "\n",
       "/* These define how to color the actual python code*/\n",
       ".cm-s-ipython span.cm-property, .cm-s-ipython span.cm-attribute {color: #268bd2;}\n",
       ".cm-s-ipython span.cm-keyword {color: #b58900;}\n",
       ".cm-s-ipython span.cm-string {color: #dc322f;}\n",
       ".cm-s-ipython span.cm-operator {color: #cdab53;}\n",
       ".cm-s-ipython span.cm-builtin {color: #a16a94;}\n",
       "\n",
       ".cm-s-ipython span.cm-variable {color: #268bd2;}\n",
       ".cm-s-ipython span.cm-variable-2 {color: #01a0e4;}\n",
       ".cm-s-ipython span.cm-def {color: #e8bbd0;}\n",
       ".cm-s-ipython span.cm-error {background: #db2d20; color: #807d7c;}\n",
       ".cm-s-ipython span.cm-bracket {color: #a5a2a2;}\n",
       ".cm-s-ipython span.cm-tag {color: #db2d20;}\n",
       ".cm-s-ipython span.cm-link {color: #a16a94;}\n",
       "\n",
       ".cm-s-ipython .CodeMirror-matchingbracket { text-decoration: underline; color: #d6d5d4 !important;}\n",
       "\n",
       "/* color just the h1 headers */\n",
       ".text_cell_render h1 {\n",
       "    font-weight: 200;\n",
       "    font-size: 30pt;\n",
       "    line-height: 100%;\n",
       "    color:#000000;\n",
       "    margin-bottom: 0.5em;\n",
       "    margin-top: 1em;\n",
       "    display: block;\n",
       "    white-space: wrap;\n",
       "\n",
       "    border-bottom: 8px solid #57c4d0;\n",
       "\n",
       "    margin:auto;\n",
       "\n",
       "}\n",
       "\n",
       "/* used for commons disclaimer */\n",
       ".text_cell_render h4 {\n",
       "    font-size:100%;\n",
       "    line-height: 100%;\n",
       "    color:#000000;\n",
       "    margin-bottom: 0.5em;\n",
       "    margin-top: 1em;\n",
       "    margin-left: 200px;\n",
       "    margin-right: 200px;\n",
       "    display: block;\n",
       "    white-space: wrap;\n",
       "\n",
       "//    margin:auto;\n",
       "\n",
       "}\n",
       "\n",
       "\n",
       "/* for subheaders */\n",
       ".text_cell_render h2 {\n",
       "    font-size:150%;\n",
       "    line-height: 100%;\n",
       "    color:#000000;\n",
       "    margin-bottom: 0.5em;\n",
       "    margin-top: 1em;\n",
       "    display: block;\n",
       "    white-space: wrap;\n",
       "    border-bottom: 4px solid #57c4d0;\n",
       "}\n",
       "\n",
       "\n",
       "/* for sections */\n",
       ".text_cell_render h3 {\n",
       "    font-size:110%;\n",
       "    line-height: 100%;\n",
       "    color:#000000;\n",
       "    margin-bottom: 0.5em;\n",
       "    margin-top: 1em;\n",
       "    display: block;\n",
       "    white-space: wrap;\n",
       "    margin:auto;\n",
       "}\n",
       "\n",
       "\n",
       "/* center the output plotts */\n",
       ".output_png {\n",
       "    display: table-cell;\n",
       "    text-align: center;\n",
       "    vertical-align: middle;\n",
       "}\n",
       "\n",
       "\n",
       "</style>\n"
      ],
      "text/plain": [
       "<IPython.core.display.HTML object>"
      ]
     },
     "execution_count": 1,
     "metadata": {},
     "output_type": "execute_result"
    }
   ],
   "source": [
    "from IPython.core.display import HTML\n",
    "import os\n",
    "styles = open(os.path.join('.', 'custom4.css'), 'r').read()\n",
    "HTML(styles)"
   ]
  },
  {
   "cell_type": "markdown",
   "metadata": {},
   "source": [
    "* Caveats\n",
    "\n",
    "*requires PyRosetta4, Python 2.7, pandas, seaborn, jupyter*\n",
    "\n",
    "This also assumes the reader is coming in after reading the original PyRosetta manual and chapters & is familiar with Pandas and plotting\n",
    "\n",
    "This is just a demo/prototype to get a feel for what we can do\n",
    "\n",
    "The energy function is hard coded at the moment - which is why the energy from the dataframe doesn't match the energy from the sfxn\n",
    "\n",
    "Not all explainations are perfect\n",
    "\n",
    "I'm not a css/js person so we definitely need to hire a design person for the book\n",
    "\n",
    "Your results may vary (I haven't set the seeds so you repack may differ)\n",
    "\n",
    "Yes, the algorithms introduced here are terrible. They are for edification, show and play, not for real science."
   ]
  },
  {
   "cell_type": "markdown",
   "metadata": {},
   "source": [
    "# Breaking down energy changes from packing in Rosetta"
   ]
  },
  {
   "cell_type": "markdown",
   "metadata": {},
   "source": [
    "#### Copyright Rosetta Commons Member Institutions. This file is part of the Rosetta software suite and is made available under license. The Rosetta software is developed by the contributing members of the Rosetta Commons. For more information, see https://www.rosettacommons.org. Questions about this can be addressed to University of Washington CoMotion, email: license@uw.edu."
   ]
  },
  {
   "cell_type": "markdown",
   "metadata": {},
   "source": [
    " ## Using PyRosetta to follow the energy minimization of the packer\n",
    " \n",
    "This notebook covers the following topics\n",
    "\n",
    "<a id='MainChapterIndex'></a>\n",
    "\n",
    "- [1](#section1) --  Setting up a Pose & extracting the energy into a Pandas DataFrame   \n",
    "\n",
    "\n",
    "- [2](#section2) --  Setting up a Packer Task to only allow residues 1 and 2 to repack   \n",
    "\n",
    "\n",
    "- [3](#section3) --  Writing a new packing algorithm based on selecting the residue with the worst energy   \n",
    "\n",
    "\n",
    "- [4](#section4) --  Fixing the packing algorithm when it gets stuck in local energy minima   \n",
    " \n",
    " \n",
    "\n",
    " \n",
    "This notebook will detail the steps need to extract information out of a running packer task in rosetta.Let's begin by starting rosetta and loading a protein. In the first cell, be sure to execute it. This will bring in all of the libraries that we will be using for this chapter."
   ]
  },
  {
   "cell_type": "markdown",
   "metadata": {},
   "source": [
    "<a id='section1'></a>\n",
    "\n",
    "## Section 1 -- Setting up a Pose & extracting the energy into a Pandas DataFrame\n",
    "[Take me back to the index](#MainChapterIndex)"
   ]
  },
  {
   "cell_type": "code",
   "execution_count": 32,
   "metadata": {
    "collapsed": true
   },
   "outputs": [],
   "source": [
    "import rosetta\n",
    "import pyrosetta\n",
    "import matplotlib.pyplot as plt\n",
    "import seaborn as sns\n",
    "%matplotlib inline\n",
    "from rosetta.core.scoring.methods import EnergyMethodOptions\n",
    "import pandas as pd\n",
    "import matplotlib.ticker as ticker\n",
    "\n",
    "sns.set_style('darkgrid')"
   ]
  },
  {
   "cell_type": "code",
   "execution_count": 85,
   "metadata": {
    "collapsed": false
   },
   "outputs": [
    {
     "name": "stdout",
     "output_type": "stream",
     "text": [
      "Found rosetta database at: /home/steve/anaconda/envs/DebugPyRosetta/lib/python2.7/site-packages/pyrosetta-4.0-py2.7.egg/database; using it....\n",
      "PyRosetta-4 2016 [Rosetta 2016 unknown:40ccfaf8273337b4eb91cd59f05ccbfceef78c87 2016-08-30 16:18:01 -0500] retrieved from: git@github.com:RosettaCommons/main.git\n",
      "(C) Copyright Rosetta Commons Member Institutions.\n",
      "Created in JHU by Sergey Lyskov and PyRosetta Team.\n",
      "\n"
     ]
    }
   ],
   "source": [
    "# See FAQ for explanations of these flags\n",
    "pyrosetta.init('-mute core basic -prevent_repacking T -ignore_unrecognized_res T ')"
   ]
  },
  {
   "cell_type": "markdown",
   "metadata": {},
   "source": [
    "Now, having just read in this structure, it will be nice to \n",
    "\n",
    "- visualize it to look for missing residues\n",
    "\n",
    "- score it with an energy function\n",
    "\n",
    "- store that data for comparison once we allow rosetta to minimize the structure over different degrees of     freedom\n",
    "\n",
    "\n",
    "Rosetta's scorefunction is a rather complex subject. Feel free to checkout the following places for more specific details on it.\n",
    "\n",
    "- Energy Function Paper\n",
    "\n",
    "- Reference Notebook on how to reproduce the score in PyRosetta\n",
    "\n",
    "- Reference Notebook on energy function\n"
   ]
  },
  {
   "cell_type": "code",
   "execution_count": 86,
   "metadata": {
    "collapsed": true
   },
   "outputs": [],
   "source": [
    "sfxn = rosetta.core.scoring.ScoreFunctionFactory.create_score_function('talaris2013')"
   ]
  },
  {
   "cell_type": "code",
   "execution_count": 87,
   "metadata": {
    "collapsed": false
   },
   "outputs": [
    {
     "name": "stdout",
     "output_type": "stream",
     "text": [
      "73.5012653727\n"
     ]
    }
   ],
   "source": [
    "# now we need a protein\n",
    "p = pyrosetta.pose_from_file('1ubq.pdb')\n",
    "print sfxn(p)"
   ]
  },
  {
   "cell_type": "markdown",
   "metadata": {},
   "source": [
    "Great, so now we have loaded a pdb from a file, internally Rosetta creates an object called a *Pose* which is the main object that stores everything we know about the protein. For example, in different layers of the *Pose* object, you can access the current energy, add restraints, identify all of the Prolines, measure distances, etc.\n",
    "\n",
    "Our score perhaps leaves something to be desired The score we got out refers to the whole protein structure, but as you may be aware, there are many different energy terms in the scorefunction. So what we just got back was the weighted sum of all of those individual score terms.\n",
    "\n",
    "Is there someway we can break it down so that we can sum it up ourselves/??\n",
    "\n",
    "Yes there is and the short answer is we will use Pandas DataFrames to do so"
   ]
  },
  {
   "cell_type": "code",
   "execution_count": 6,
   "metadata": {
    "collapsed": true
   },
   "outputs": [],
   "source": [
    "#### This function is used to get a dataframe of all per residues scores in the pose\n",
    "def dataframe_from_pose_and_sfxn(p, sfxn):\n",
    "    '''\n",
    "    Takes a Rosetta Pose and a scorefunction, then returns a dataframe\n",
    "    of the Per-residues weighted scoreterms, including hbond_bb (which get zeroed out\n",
    "    by default)\n",
    "\n",
    "    '''\n",
    "\n",
    "    \n",
    "    current_energy_methods_options = sfxn.energy_method_options() #keep current options\n",
    "    emo = EnergyMethodOptions( current_energy_methods_options)    #must do this to get per res hbond_bb terms in breakdown\n",
    "    emo.hbond_options().decompose_bb_hb_into_pair_energies( True )  # set to true, defaults False\n",
    "    sfxn.set_energy_method_options( emo ) #set the sfxn up with the energy method options\n",
    "\n",
    "    \n",
    "    import ast\n",
    "    # hack for example to work\n",
    "    sfxnweights = ast.literal_eval(\"{'fa_atr': 0.8, 'fa_rep': 0.44, 'fa_sol': 0.75, 'fa_intra_rep': 0.004, 'fa_elec': 0.7, 'pro_close': 1, 'hbond_sr_bb': 1.17, 'hbond_lr_bb': 1.17, 'hbond_bb_sc': 1.17, 'hbond_sc': 1.1, 'dslf_fa13': 1, 'rama': 0.2, 'omega': 0.5, 'fa_dun': 0.56, 'p_aa_pp': 0.32, 'ref': 1}\")\n",
    "    \n",
    "    listofseries = []\n",
    "    \n",
    "    for i in range(1,p.total_residue() +1):\n",
    "        mydict = {}\n",
    "        for j in sfxnweights.keys():\n",
    "            \n",
    "            mydict[j] = float(sfxnweights[j])*p.energies().residue_total_energies(i)[ rosetta.core.scoring.ScoreTypeManager.score_type_from_name(j) ]\n",
    "            \n",
    "        listofseries.append(pd.Series(mydict))\n",
    "\n",
    "    df = pd.DataFrame(listofseries)\n",
    "    df.index +=1 # residues start from 1\n",
    "    \n",
    "    return df\n"
   ]
  },
  {
   "cell_type": "code",
   "execution_count": 7,
   "metadata": {
    "collapsed": false
   },
   "outputs": [
    {
     "data": {
      "image/png": "[encoded data removed]",
      "text/plain": [
       "<matplotlib.figure.Figure at 0x7f81a9dad1d0>"
      ]
     },
     "metadata": {},
     "output_type": "display_data"
    }
   ],
   "source": [
    "d = dataframe_from_pose_and_sfxn( p, sfxn )\n",
    "\n",
    "d.hist(figsize=(10,10));"
   ]
  },
  {
   "cell_type": "markdown",
   "metadata": {
    "collapsed": true
   },
   "source": [
    "Ok, so what have we done and what does this tell us?\n",
    "\n",
    "We have load a pdb file (1ubq) into rosetta and created a Pose object. We have also create a scorefunction and score our protein. Last, we import the useful python library pandas so that we can look deeper into the score.\n",
    "\n",
    "What we can see in our energy function, is that there are a few terms that appear unimodal (like dsfld_13 <- a term for disulfide bonds)\n",
    "\n",
    "So, there are 3 ways we can check to see why that is the case. \n",
    "\n",
    "    1- Check the dataframe for energies in that column"
   ]
  },
  {
   "cell_type": "code",
   "execution_count": 76,
   "metadata": {
    "collapsed": false
   },
   "outputs": [
    {
     "data": {
      "text/plain": [
       "1    0.0\n",
       "2    0.0\n",
       "3    0.0\n",
       "4    0.0\n",
       "5    0.0\n",
       "Name: dslf_fa13, dtype: float64"
      ]
     },
     "execution_count": 76,
     "metadata": {},
     "output_type": "execute_result"
    }
   ],
   "source": [
    "d.dslf_fa13.head()"
   ]
  },
  {
   "cell_type": "markdown",
   "metadata": {},
   "source": [
    "And we see that all of the terms are 0.   But why are they zero? Perhaps there are no disulfides detected...\n",
    "\n",
    "    2- Query the conformation layer to see if it detects sulfides"
   ]
  },
  {
   "cell_type": "code",
   "execution_count": 9,
   "metadata": {
    "collapsed": false
   },
   "outputs": [
    {
     "name": "stdout",
     "output_type": "stream",
     "text": [
      "None\n"
     ]
    }
   ],
   "source": [
    "conf = p.conformation()\n",
    "\n",
    "print conf.detect_disulfides()"
   ]
  },
  {
   "cell_type": "markdown",
   "metadata": {},
   "source": [
    "Ok, so there are no disfulide bond.  But are there any cysteine residues? Maybe Rosetta just isn't detecting the disfulides correctly.\n",
    "\n",
    "    3- Check the protein for Cysteine residues"
   ]
  },
  {
   "cell_type": "code",
   "execution_count": 10,
   "metadata": {
    "collapsed": true
   },
   "outputs": [],
   "source": [
    "for i in range(1,p.total_residue()+1):\n",
    "    if p.residue(i).name() == 'CYS':\n",
    "        print p.residue(i).name()"
   ]
  },
  {
   "cell_type": "markdown",
   "metadata": {},
   "source": [
    "So now we finally arrive at the conclusion that there are no cysteines, hence no disfulides, and therefore our unimodal dsfd energy term is a just a bunch of 0.00's\n",
    "\n",
    "\n",
    "\n",
    "The next thing we might want todo is to look into the energy dataframe. Here's a slice"
   ]
  },
  {
   "cell_type": "code",
   "execution_count": 11,
   "metadata": {
    "collapsed": false
   },
   "outputs": [
    {
     "data": {
      "text/html": [
       "<div>\n",
       "<style>\n",
       "    .dataframe thead tr:only-child th {\n",
       "        text-align: right;\n",
       "    }\n",
       "\n",
       "    .dataframe thead th {\n",
       "        text-align: left;\n",
       "    }\n",
       "\n",
       "    .dataframe tbody tr th {\n",
       "        vertical-align: top;\n",
       "    }\n",
       "</style>\n",
       "<table border=\"1\" class=\"dataframe\">\n",
       "  <thead>\n",
       "    <tr style=\"text-align: right;\">\n",
       "      <th></th>\n",
       "      <th>dslf_fa13</th>\n",
       "      <th>fa_atr</th>\n",
       "      <th>fa_dun</th>\n",
       "      <th>fa_elec</th>\n",
       "      <th>fa_intra_rep</th>\n",
       "      <th>fa_rep</th>\n",
       "      <th>fa_sol</th>\n",
       "      <th>hbond_bb_sc</th>\n",
       "      <th>hbond_lr_bb</th>\n",
       "      <th>hbond_sc</th>\n",
       "      <th>hbond_sr_bb</th>\n",
       "      <th>omega</th>\n",
       "      <th>p_aa_pp</th>\n",
       "      <th>pro_close</th>\n",
       "      <th>rama</th>\n",
       "      <th>ref</th>\n",
       "    </tr>\n",
       "  </thead>\n",
       "  <tbody>\n",
       "    <tr>\n",
       "      <th>1</th>\n",
       "      <td>0.0</td>\n",
       "      <td>-4.228063</td>\n",
       "      <td>4.183688</td>\n",
       "      <td>-0.788563</td>\n",
       "      <td>0.008626</td>\n",
       "      <td>0.440478</td>\n",
       "      <td>2.381175</td>\n",
       "      <td>0.0</td>\n",
       "      <td>0.0</td>\n",
       "      <td>0.0</td>\n",
       "      <td>0.0</td>\n",
       "      <td>0.014325</td>\n",
       "      <td>0.000000</td>\n",
       "      <td>0.0</td>\n",
       "      <td>0.000000</td>\n",
       "      <td>0.158677</td>\n",
       "    </tr>\n",
       "    <tr>\n",
       "      <th>2</th>\n",
       "      <td>0.0</td>\n",
       "      <td>-2.711662</td>\n",
       "      <td>4.391038</td>\n",
       "      <td>-0.354802</td>\n",
       "      <td>0.005483</td>\n",
       "      <td>0.103631</td>\n",
       "      <td>1.714730</td>\n",
       "      <td>0.0</td>\n",
       "      <td>0.0</td>\n",
       "      <td>0.0</td>\n",
       "      <td>0.0</td>\n",
       "      <td>0.220519</td>\n",
       "      <td>-0.014081</td>\n",
       "      <td>0.0</td>\n",
       "      <td>-0.159911</td>\n",
       "      <td>-1.177970</td>\n",
       "    </tr>\n",
       "    <tr>\n",
       "      <th>3</th>\n",
       "      <td>0.0</td>\n",
       "      <td>-4.525690</td>\n",
       "      <td>0.559269</td>\n",
       "      <td>-0.399025</td>\n",
       "      <td>0.009071</td>\n",
       "      <td>0.105186</td>\n",
       "      <td>1.365036</td>\n",
       "      <td>0.0</td>\n",
       "      <td>0.0</td>\n",
       "      <td>0.0</td>\n",
       "      <td>0.0</td>\n",
       "      <td>0.000927</td>\n",
       "      <td>-0.150230</td>\n",
       "      <td>0.0</td>\n",
       "      <td>-0.067601</td>\n",
       "      <td>0.831803</td>\n",
       "    </tr>\n",
       "    <tr>\n",
       "      <th>4</th>\n",
       "      <td>0.0</td>\n",
       "      <td>-5.088347</td>\n",
       "      <td>1.457668</td>\n",
       "      <td>-0.458006</td>\n",
       "      <td>0.021662</td>\n",
       "      <td>0.567937</td>\n",
       "      <td>2.179498</td>\n",
       "      <td>0.0</td>\n",
       "      <td>0.0</td>\n",
       "      <td>0.0</td>\n",
       "      <td>0.0</td>\n",
       "      <td>0.088437</td>\n",
       "      <td>-0.149437</td>\n",
       "      <td>0.0</td>\n",
       "      <td>-0.170721</td>\n",
       "      <td>0.430570</td>\n",
       "    </tr>\n",
       "    <tr>\n",
       "      <th>5</th>\n",
       "      <td>0.0</td>\n",
       "      <td>-4.124108</td>\n",
       "      <td>0.017596</td>\n",
       "      <td>-0.471249</td>\n",
       "      <td>0.010701</td>\n",
       "      <td>0.239889</td>\n",
       "      <td>1.409207</td>\n",
       "      <td>0.0</td>\n",
       "      <td>0.0</td>\n",
       "      <td>0.0</td>\n",
       "      <td>0.0</td>\n",
       "      <td>0.017748</td>\n",
       "      <td>-0.331413</td>\n",
       "      <td>0.0</td>\n",
       "      <td>-0.153348</td>\n",
       "      <td>0.744844</td>\n",
       "    </tr>\n",
       "  </tbody>\n",
       "</table>\n",
       "</div>"
      ],
      "text/plain": [
       "   dslf_fa13    fa_atr    fa_dun   fa_elec  fa_intra_rep    fa_rep    fa_sol  \\\n",
       "1        0.0 -4.228063  4.183688 -0.788563      0.008626  0.440478  2.381175   \n",
       "2        0.0 -2.711662  4.391038 -0.354802      0.005483  0.103631  1.714730   \n",
       "3        0.0 -4.525690  0.559269 -0.399025      0.009071  0.105186  1.365036   \n",
       "4        0.0 -5.088347  1.457668 -0.458006      0.021662  0.567937  2.179498   \n",
       "5        0.0 -4.124108  0.017596 -0.471249      0.010701  0.239889  1.409207   \n",
       "\n",
       "   hbond_bb_sc  hbond_lr_bb  hbond_sc  hbond_sr_bb     omega   p_aa_pp  \\\n",
       "1          0.0          0.0       0.0          0.0  0.014325  0.000000   \n",
       "2          0.0          0.0       0.0          0.0  0.220519 -0.014081   \n",
       "3          0.0          0.0       0.0          0.0  0.000927 -0.150230   \n",
       "4          0.0          0.0       0.0          0.0  0.088437 -0.149437   \n",
       "5          0.0          0.0       0.0          0.0  0.017748 -0.331413   \n",
       "\n",
       "   pro_close      rama       ref  \n",
       "1        0.0  0.000000  0.158677  \n",
       "2        0.0 -0.159911 -1.177970  \n",
       "3        0.0 -0.067601  0.831803  \n",
       "4        0.0 -0.170721  0.430570  \n",
       "5        0.0 -0.153348  0.744844  "
      ]
     },
     "execution_count": 11,
     "metadata": {},
     "output_type": "execute_result"
    }
   ],
   "source": [
    "d.head()"
   ]
  },
  {
   "cell_type": "markdown",
   "metadata": {},
   "source": [
    "What we see is each pose residue number and all of the energy terms broken down. This might actually be too much data, maybe we just want to track changes in individual energy terms. To accomplish that, we just need to sum up each energy term. This is trivially accomplished in the dataframe."
   ]
  },
  {
   "cell_type": "code",
   "execution_count": 44,
   "metadata": {
    "collapsed": false
   },
   "outputs": [
    {
     "data": {
      "text/plain": [
       "dslf_fa13         0.000000\n",
       "fa_atr         -251.795476\n",
       "fa_dun          227.147177\n",
       "fa_elec         -21.877033\n",
       "fa_intra_rep      1.381880\n",
       "fa_rep           33.049298\n",
       "fa_sol          140.765241\n",
       "hbond_bb_sc      -3.418767\n",
       "hbond_lr_bb       0.000000\n",
       "hbond_sc         -0.978310\n",
       "hbond_sr_bb       0.000000\n",
       "omega             3.373518\n",
       "p_aa_pp          -8.026246\n",
       "pro_close         1.906105\n",
       "rama             -7.254262\n",
       "ref              -8.531904\n",
       "dtype: float64"
      ]
     },
     "execution_count": 44,
     "metadata": {},
     "output_type": "execute_result"
    }
   ],
   "source": [
    "d.sum()"
   ]
  },
  {
   "cell_type": "markdown",
   "metadata": {},
   "source": [
    "And as a reminder, we can always get the total protein energy by adding 1 more call to .sum"
   ]
  },
  {
   "cell_type": "code",
   "execution_count": 13,
   "metadata": {
    "collapsed": false
   },
   "outputs": [
    {
     "data": {
      "text/plain": [
       "105.74122145170412"
      ]
     },
     "execution_count": 13,
     "metadata": {},
     "output_type": "execute_result"
    }
   ],
   "source": [
    "d.sum().sum()"
   ]
  },
  {
   "cell_type": "markdown",
   "metadata": {},
   "source": [
    "Which, you may recall from above is the energy of our protein when we asked rosetta to score it."
   ]
  },
  {
   "cell_type": "markdown",
   "metadata": {},
   "source": [
    "<a id='section2'></a>\n",
    "## 2 --  Setting up a Packer Task to only allow residues 1 and 2 to repack\n",
    "[Take me back to the index](#MainChapterIndex)"
   ]
  },
  {
   "cell_type": "markdown",
   "metadata": {},
   "source": [
    "Okay, now let's try something. We will use Rosetta to sample different rotamers in the protein in order to try and find a lower energy solution to the structure. We should be able to track all of the changes in energy and compare to identify where the change happened."
   ]
  },
  {
   "cell_type": "code",
   "execution_count": 14,
   "metadata": {
    "collapsed": false,
    "scrolled": true
   },
   "outputs": [
    {
     "name": "stdout",
     "output_type": "stream",
     "text": [
      "#Packer_Task\n",
      "\n",
      "resid\tpack?\tdesign?\tallowed_aas\n",
      "1\tTRUE\tTRUE\tALA:NtermProteinFull,CYS:NtermProteinFull,ASP:NtermProteinFull,GLU:NtermProteinFull,PHE:NtermProteinFull,GLY:NtermProteinFull,HIS:NtermProteinFull,HIS_D:NtermProteinFull,ILE:NtermProteinFull,LYS:NtermProteinFull,LEU:NtermProteinFull,MET:NtermProteinFull,ASN:NtermProteinFull,PRO:NtermProteinFull,GLN:NtermProteinFull,ARG:NtermProteinFull,SER:NtermProteinFull,THR:NtermProteinFull,VAL:NtermProteinFull,TRP:NtermProteinFull,TYR:NtermProteinFull\n",
      "2\tTRUE\tTRUE\tALA,CYS,ASP,GLU,PHE,GLY,HIS,HIS_D,ILE,LYS,LEU,MET,ASN,PRO,GLN,ARG,SER,THR,VAL,TRP,TYR\n",
      "3\tTRUE\tTRUE\tALA,CYS,ASP,GLU,PHE,GLY,HIS,HIS_D,ILE,LYS,LEU,MET,ASN,PRO,GLN,ARG,SER,THR,VAL,TRP,TYR\n",
      "4\tTRUE\tTRUE\tALA,CYS,ASP,GLU,PHE,GLY,HIS,HIS_D,ILE,LYS,LEU,MET,ASN,PRO,GLN,ARG,SER,THR,VAL,TRP,TYR\n",
      "5\tTRUE\tTRUE\tALA,CYS,ASP,GLU,PHE,GLY,HIS,HIS_D,ILE,LYS,LEU,MET,ASN,PRO,GLN,ARG,SER,THR,VAL,TRP,TYR\n",
      "6\tTRUE\tTRUE\tALA,CYS,ASP,GLU,PHE,GLY,HIS,HIS_D,ILE,LYS,LEU,MET,ASN,PRO,GLN,ARG,SER,THR,VAL,TRP,TYR\n",
      "7\tTRUE\tTRUE\tALA,CYS,ASP,GLU,PHE,GLY,HIS,HIS_D,ILE,LYS,LEU,MET,ASN,PRO,GLN,ARG,SER,THR,VAL,TRP,TYR\n",
      "8\tTRUE\tTRUE\tALA,CYS,ASP,GLU,PHE,GLY,HIS,HIS_D,ILE,LYS,LEU,MET,ASN,PRO,GLN,ARG,SER,THR,VAL,TRP,TYR\n",
      "9\tTRUE\tTRUE\tALA,CYS,ASP,GLU,PHE,GLY,HIS,HIS_D,ILE,LYS,LEU,MET,ASN,PRO,GLN,ARG,SER,THR,VAL,TRP,TYR\n",
      "10\tTRUE\tTRUE\tALA,CYS,ASP,GLU,PHE,GLY,HIS,HIS_D,ILE,LYS,LEU,MET,ASN,PRO,GLN,ARG,SER,THR,VAL,TRP,TYR\n",
      "11\tTRUE\tTRUE\tALA,CYS,ASP,GLU,PHE,GLY,HIS,HIS_D,ILE,LYS,LEU,MET,ASN,PRO,GLN,ARG,SER,THR,VAL,TRP,TYR\n",
      "12\tTRUE\tTRUE\tALA,CYS,ASP,GLU,PHE,GLY,HIS,HIS_D,ILE,LYS,LEU,MET,ASN,PRO,GLN,ARG,SER,THR,VAL,TRP,TYR\n",
      "13\tTRUE\tTRUE\tALA,CYS,ASP,GLU,PHE,GLY,HIS,HIS_D,ILE,LYS,LEU,MET,ASN,PRO,GLN,ARG,SER,THR,VAL,TRP,TYR\n",
      "14\tTRUE\tTRUE\tALA,CYS,ASP,GLU,PHE,GLY,HIS,HIS_D,ILE,LYS,LEU,MET,ASN,PRO,GLN,ARG,SER,THR,VAL,TRP,TYR\n",
      "15\tTRUE\tTRUE\tALA,CYS,ASP,GLU,PHE,GLY,HIS,HIS_D,ILE,LYS,LEU,MET,ASN,PRO,GLN,ARG,SER,THR,VAL,TRP,TYR\n",
      "16\tTRUE\tTRUE\tALA,CYS,ASP,GLU,PHE,GLY,HIS,HIS_D,ILE,LYS,LEU,MET,ASN,PRO,GLN,ARG,SER,THR,VAL,TRP,TYR\n",
      "17\tTRUE\tTRUE\tALA,CYS,ASP,GLU,PHE,GLY,HIS,HIS_D,ILE,LYS,LEU,MET,ASN,PRO,GLN,ARG,SER,THR,VAL,TRP,TYR\n",
      "18\tTRUE\tTRUE\tALA,CYS,ASP,GLU,PHE,GLY,HIS,HIS_D,ILE,LYS,LEU,MET,ASN,PRO,GLN,ARG,SER,THR,VAL,TRP,TYR\n",
      "19\tTRUE\tTRUE\tALA,CYS,ASP,GLU,PHE,GLY,HIS,HIS_D,ILE,LYS,LEU,MET,ASN,PRO,GLN,ARG,SER,THR,VAL,TRP,TYR\n",
      "20\tTRUE\tTRUE\tALA,CYS,ASP,GLU,PHE,GLY,HIS,HIS_D,ILE,LYS,LEU,MET,ASN,PRO,GLN,ARG,SER,THR,VAL,TRP,TYR\n",
      "21\tTRUE\tTRUE\tALA,CYS,ASP,GLU,PHE,GLY,HIS,HIS_D,ILE,LYS,LEU,MET,ASN,PRO,GLN,ARG,SER,THR,VAL,TRP,TYR\n",
      "22\tTRUE\tTRUE\tALA,CYS,ASP,GLU,PHE,GLY,HIS,HIS_D,ILE,LYS,LEU,MET,ASN,PRO,GLN,ARG,SER,THR,VAL,TRP,TYR\n",
      "23\tTRUE\tTRUE\tALA,CYS,ASP,GLU,PHE,GLY,HIS,HIS_D,ILE,LYS,LEU,MET,ASN,PRO,GLN,ARG,SER,THR,VAL,TRP,TYR\n",
      "24\tTRUE\tTRUE\tALA,CYS,ASP,GLU,PHE,GLY,HIS,HIS_D,ILE,LYS,LEU,MET,ASN,PRO,GLN,ARG,SER,THR,VAL,TRP,TYR\n",
      "25\tTRUE\tTRUE\tALA,CYS,ASP,GLU,PHE,GLY,HIS,HIS_D,ILE,LYS,LEU,MET,ASN,PRO,GLN,ARG,SER,THR,VAL,TRP,TYR\n",
      "26\tTRUE\tTRUE\tALA,CYS,ASP,GLU,PHE,GLY,HIS,HIS_D,ILE,LYS,LEU,MET,ASN,PRO,GLN,ARG,SER,THR,VAL,TRP,TYR\n",
      "27\tTRUE\tTRUE\tALA,CYS,ASP,GLU,PHE,GLY,HIS,HIS_D,ILE,LYS,LEU,MET,ASN,PRO,GLN,ARG,SER,THR,VAL,TRP,TYR\n",
      "28\tTRUE\tTRUE\tALA,CYS,ASP,GLU,PHE,GLY,HIS,HIS_D,ILE,LYS,LEU,MET,ASN,PRO,GLN,ARG,SER,THR,VAL,TRP,TYR\n",
      "29\tTRUE\tTRUE\tALA,CYS,ASP,GLU,PHE,GLY,HIS,HIS_D,ILE,LYS,LEU,MET,ASN,PRO,GLN,ARG,SER,THR,VAL,TRP,TYR\n",
      "30\tTRUE\tTRUE\tALA,CYS,ASP,GLU,PHE,GLY,HIS,HIS_D,ILE,LYS,LEU,MET,ASN,PRO,GLN,ARG,SER,THR,VAL,TRP,TYR\n",
      "31\tTRUE\tTRUE\tALA,CYS,ASP,GLU,PHE,GLY,HIS,HIS_D,ILE,LYS,LEU,MET,ASN,PRO,GLN,ARG,SER,THR,VAL,TRP,TYR\n",
      "32\tTRUE\tTRUE\tALA,CYS,ASP,GLU,PHE,GLY,HIS,HIS_D,ILE,LYS,LEU,MET,ASN,PRO,GLN,ARG,SER,THR,VAL,TRP,TYR\n",
      "33\tTRUE\tTRUE\tALA,CYS,ASP,GLU,PHE,GLY,HIS,HIS_D,ILE,LYS,LEU,MET,ASN,PRO,GLN,ARG,SER,THR,VAL,TRP,TYR\n",
      "34\tTRUE\tTRUE\tALA,CYS,ASP,GLU,PHE,GLY,HIS,HIS_D,ILE,LYS,LEU,MET,ASN,PRO,GLN,ARG,SER,THR,VAL,TRP,TYR\n",
      "35\tTRUE\tTRUE\tALA,CYS,ASP,GLU,PHE,GLY,HIS,HIS_D,ILE,LYS,LEU,MET,ASN,PRO,GLN,ARG,SER,THR,VAL,TRP,TYR\n",
      "36\tTRUE\tTRUE\tALA,CYS,ASP,GLU,PHE,GLY,HIS,HIS_D,ILE,LYS,LEU,MET,ASN,PRO,GLN,ARG,SER,THR,VAL,TRP,TYR\n",
      "37\tTRUE\tTRUE\tALA,CYS,ASP,GLU,PHE,GLY,HIS,HIS_D,ILE,LYS,LEU,MET,ASN,PRO,GLN,ARG,SER,THR,VAL,TRP,TYR\n",
      "38\tTRUE\tTRUE\tALA,CYS,ASP,GLU,PHE,GLY,HIS,HIS_D,ILE,LYS,LEU,MET,ASN,PRO,GLN,ARG,SER,THR,VAL,TRP,TYR\n",
      "39\tTRUE\tTRUE\tALA,CYS,ASP,GLU,PHE,GLY,HIS,HIS_D,ILE,LYS,LEU,MET,ASN,PRO,GLN,ARG,SER,THR,VAL,TRP,TYR\n",
      "40\tTRUE\tTRUE\tALA,CYS,ASP,GLU,PHE,GLY,HIS,HIS_D,ILE,LYS,LEU,MET,ASN,PRO,GLN,ARG,SER,THR,VAL,TRP,TYR\n",
      "41\tTRUE\tTRUE\tALA,CYS,ASP,GLU,PHE,GLY,HIS,HIS_D,ILE,LYS,LEU,MET,ASN,PRO,GLN,ARG,SER,THR,VAL,TRP,TYR\n",
      "42\tTRUE\tTRUE\tALA,CYS,ASP,GLU,PHE,GLY,HIS,HIS_D,ILE,LYS,LEU,MET,ASN,PRO,GLN,ARG,SER,THR,VAL,TRP,TYR\n",
      "43\tTRUE\tTRUE\tALA,CYS,ASP,GLU,PHE,GLY,HIS,HIS_D,ILE,LYS,LEU,MET,ASN,PRO,GLN,ARG,SER,THR,VAL,TRP,TYR\n",
      "44\tTRUE\tTRUE\tALA,CYS,ASP,GLU,PHE,GLY,HIS,HIS_D,ILE,LYS,LEU,MET,ASN,PRO,GLN,ARG,SER,THR,VAL,TRP,TYR\n",
      "45\tTRUE\tTRUE\tALA,CYS,ASP,GLU,PHE,GLY,HIS,HIS_D,ILE,LYS,LEU,MET,ASN,PRO,GLN,ARG,SER,THR,VAL,TRP,TYR\n",
      "46\tTRUE\tTRUE\tALA,CYS,ASP,GLU,PHE,GLY,HIS,HIS_D,ILE,LYS,LEU,MET,ASN,PRO,GLN,ARG,SER,THR,VAL,TRP,TYR\n",
      "47\tTRUE\tTRUE\tALA,CYS,ASP,GLU,PHE,GLY,HIS,HIS_D,ILE,LYS,LEU,MET,ASN,PRO,GLN,ARG,SER,THR,VAL,TRP,TYR\n",
      "48\tTRUE\tTRUE\tALA,CYS,ASP,GLU,PHE,GLY,HIS,HIS_D,ILE,LYS,LEU,MET,ASN,PRO,GLN,ARG,SER,THR,VAL,TRP,TYR\n",
      "49\tTRUE\tTRUE\tALA,CYS,ASP,GLU,PHE,GLY,HIS,HIS_D,ILE,LYS,LEU,MET,ASN,PRO,GLN,ARG,SER,THR,VAL,TRP,TYR\n",
      "50\tTRUE\tTRUE\tALA,CYS,ASP,GLU,PHE,GLY,HIS,HIS_D,ILE,LYS,LEU,MET,ASN,PRO,GLN,ARG,SER,THR,VAL,TRP,TYR\n",
      "51\tTRUE\tTRUE\tALA,CYS,ASP,GLU,PHE,GLY,HIS,HIS_D,ILE,LYS,LEU,MET,ASN,PRO,GLN,ARG,SER,THR,VAL,TRP,TYR\n",
      "52\tTRUE\tTRUE\tALA,CYS,ASP,GLU,PHE,GLY,HIS,HIS_D,ILE,LYS,LEU,MET,ASN,PRO,GLN,ARG,SER,THR,VAL,TRP,TYR\n",
      "53\tTRUE\tTRUE\tALA,CYS,ASP,GLU,PHE,GLY,HIS,HIS_D,ILE,LYS,LEU,MET,ASN,PRO,GLN,ARG,SER,THR,VAL,TRP,TYR\n",
      "54\tTRUE\tTRUE\tALA,CYS,ASP,GLU,PHE,GLY,HIS,HIS_D,ILE,LYS,LEU,MET,ASN,PRO,GLN,ARG,SER,THR,VAL,TRP,TYR\n",
      "55\tTRUE\tTRUE\tALA,CYS,ASP,GLU,PHE,GLY,HIS,HIS_D,ILE,LYS,LEU,MET,ASN,PRO,GLN,ARG,SER,THR,VAL,TRP,TYR\n",
      "56\tTRUE\tTRUE\tALA,CYS,ASP,GLU,PHE,GLY,HIS,HIS_D,ILE,LYS,LEU,MET,ASN,PRO,GLN,ARG,SER,THR,VAL,TRP,TYR\n",
      "57\tTRUE\tTRUE\tALA,CYS,ASP,GLU,PHE,GLY,HIS,HIS_D,ILE,LYS,LEU,MET,ASN,PRO,GLN,ARG,SER,THR,VAL,TRP,TYR\n",
      "58\tTRUE\tTRUE\tALA,CYS,ASP,GLU,PHE,GLY,HIS,HIS_D,ILE,LYS,LEU,MET,ASN,PRO,GLN,ARG,SER,THR,VAL,TRP,TYR\n",
      "59\tTRUE\tTRUE\tALA,CYS,ASP,GLU,PHE,GLY,HIS,HIS_D,ILE,LYS,LEU,MET,ASN,PRO,GLN,ARG,SER,THR,VAL,TRP,TYR\n",
      "60\tTRUE\tTRUE\tALA,CYS,ASP,GLU,PHE,GLY,HIS,HIS_D,ILE,LYS,LEU,MET,ASN,PRO,GLN,ARG,SER,THR,VAL,TRP,TYR\n",
      "61\tTRUE\tTRUE\tALA,CYS,ASP,GLU,PHE,GLY,HIS,HIS_D,ILE,LYS,LEU,MET,ASN,PRO,GLN,ARG,SER,THR,VAL,TRP,TYR\n",
      "62\tTRUE\tTRUE\tALA,CYS,ASP,GLU,PHE,GLY,HIS,HIS_D,ILE,LYS,LEU,MET,ASN,PRO,GLN,ARG,SER,THR,VAL,TRP,TYR\n",
      "63\tTRUE\tTRUE\tALA,CYS,ASP,GLU,PHE,GLY,HIS,HIS_D,ILE,LYS,LEU,MET,ASN,PRO,GLN,ARG,SER,THR,VAL,TRP,TYR\n",
      "64\tTRUE\tTRUE\tALA,CYS,ASP,GLU,PHE,GLY,HIS,HIS_D,ILE,LYS,LEU,MET,ASN,PRO,GLN,ARG,SER,THR,VAL,TRP,TYR\n",
      "65\tTRUE\tTRUE\tALA,CYS,ASP,GLU,PHE,GLY,HIS,HIS_D,ILE,LYS,LEU,MET,ASN,PRO,GLN,ARG,SER,THR,VAL,TRP,TYR\n",
      "66\tTRUE\tTRUE\tALA,CYS,ASP,GLU,PHE,GLY,HIS,HIS_D,ILE,LYS,LEU,MET,ASN,PRO,GLN,ARG,SER,THR,VAL,TRP,TYR\n",
      "67\tTRUE\tTRUE\tALA,CYS,ASP,GLU,PHE,GLY,HIS,HIS_D,ILE,LYS,LEU,MET,ASN,PRO,GLN,ARG,SER,THR,VAL,TRP,TYR\n",
      "68\tTRUE\tTRUE\tALA,CYS,ASP,GLU,PHE,GLY,HIS,HIS_D,ILE,LYS,LEU,MET,ASN,PRO,GLN,ARG,SER,THR,VAL,TRP,TYR\n",
      "69\tTRUE\tTRUE\tALA,CYS,ASP,GLU,PHE,GLY,HIS,HIS_D,ILE,LYS,LEU,MET,ASN,PRO,GLN,ARG,SER,THR,VAL,TRP,TYR\n",
      "70\tTRUE\tTRUE\tALA,CYS,ASP,GLU,PHE,GLY,HIS,HIS_D,ILE,LYS,LEU,MET,ASN,PRO,GLN,ARG,SER,THR,VAL,TRP,TYR\n",
      "71\tTRUE\tTRUE\tALA,CYS,ASP,GLU,PHE,GLY,HIS,HIS_D,ILE,LYS,LEU,MET,ASN,PRO,GLN,ARG,SER,THR,VAL,TRP,TYR\n",
      "72\tTRUE\tTRUE\tALA,CYS,ASP,GLU,PHE,GLY,HIS,HIS_D,ILE,LYS,LEU,MET,ASN,PRO,GLN,ARG,SER,THR,VAL,TRP,TYR\n",
      "73\tTRUE\tTRUE\tALA,CYS,ASP,GLU,PHE,GLY,HIS,HIS_D,ILE,LYS,LEU,MET,ASN,PRO,GLN,ARG,SER,THR,VAL,TRP,TYR\n",
      "74\tTRUE\tTRUE\tALA,CYS,ASP,GLU,PHE,GLY,HIS,HIS_D,ILE,LYS,LEU,MET,ASN,PRO,GLN,ARG,SER,THR,VAL,TRP,TYR\n",
      "75\tTRUE\tTRUE\tALA,CYS,ASP,GLU,PHE,GLY,HIS,HIS_D,ILE,LYS,LEU,MET,ASN,PRO,GLN,ARG,SER,THR,VAL,TRP,TYR\n",
      "76\tTRUE\tTRUE\tALA:CtermProteinFull,CYS:CtermProteinFull,ASP:CtermProteinFull,GLU:CtermProteinFull,PHE:CtermProteinFull,GLY:CtermProteinFull,HIS:CtermProteinFull,HIS_D:CtermProteinFull,ILE:CtermProteinFull,LYS:CtermProteinFull,LEU:CtermProteinFull,MET:CtermProteinFull,ASN:CtermProteinFull,PRO:CtermProteinFull,GLN:CtermProteinFull,ARG:CtermProteinFull,SER:CtermProteinFull,THR:CtermProteinFull,VAL:CtermProteinFull,TRP:CtermProteinFull,TYR:CtermProteinFull\n",
      "\n"
     ]
    }
   ],
   "source": [
    "tf = rosetta.core.pack.task.TaskFactory()\n",
    "pt = tf.create_packer_task(p)\n",
    "\n",
    "print pt"
   ]
  },
  {
   "cell_type": "markdown",
   "metadata": {},
   "source": [
    "Ok, so we have a default packer task setup in Rosetta (pro-tip, notice that by default Rosetta allows design of residues!)\n",
    "\n",
    "But for our experiment, we will need to restrict it down to repacking (by turning design off) and then further carve away (as in carve an ice sculpture, the packer is commutative in the algebraic sense) by turning off packing on every residue except the one we want"
   ]
  },
  {
   "cell_type": "code",
   "execution_count": 15,
   "metadata": {
    "collapsed": false
   },
   "outputs": [
    {
     "name": "stdout",
     "output_type": "stream",
     "text": [
      "vector1_bool[1, 0, 0, 0, 0, 0, 0, 0, 0, 0, 0, 0, 0, 0, 0, 0, 0, 0, 0, 0, 0, 0, 0, 0, 0, 0, 0, 0, 0, 0, 0, 0, 0, 0, 0, 0, 0, 0, 0, 0, 0, 0, 0, 0, 0, 0, 0, 0, 0, 0, 0, 0, 0, 0, 0, 0, 0, 0, 0, 0, 0, 0, 0, 0, 0, 0, 0, 0, 0, 0, 0, 0, 0, 0, 0, 0]\n"
     ]
    },
    {
     "data": {
      "text/plain": [
       "<rosetta.core.pack.task.PackerTask_ at 0x7f81a6336170>"
      ]
     },
     "execution_count": 15,
     "metadata": {},
     "output_type": "execute_result"
    }
   ],
   "source": [
    "mymask = rosetta.utility.vector1_bool()\n",
    "for i in range(1,p.total_residue()+1):\n",
    "    if i != 1:\n",
    "        mymask.append(False)\n",
    "    else:\n",
    "        mymask.append(True)\n",
    "print mymask\n",
    "\n",
    "pt.restrict_to_repacking();\n",
    "\n",
    "# This is the function that I want to use.\n",
    "# if you put a question mark at the end and execute the cell, you will see\n",
    "# that it takes a vector1 of booleans. That's why we are constructing one,\n",
    "# so that we can pass it into this function \n",
    "\n",
    "#pt.restrict_to_residues"
   ]
  },
  {
   "cell_type": "code",
   "execution_count": 16,
   "metadata": {
    "collapsed": false,
    "scrolled": true
   },
   "outputs": [
    {
     "name": "stdout",
     "output_type": "stream",
     "text": [
      "#Packer_Task\n",
      "\n",
      "resid\tpack?\tdesign?\tallowed_aas\n",
      "1\tTRUE\tFALSE\tMET:NtermProteinFull\n",
      "2\tTRUE\tFALSE\tGLN\n",
      "3\tTRUE\tFALSE\tILE\n",
      "4\tTRUE\tFALSE\tPHE\n",
      "5\tTRUE\tFALSE\tVAL\n",
      "6\tTRUE\tFALSE\tLYS\n",
      "7\tTRUE\tFALSE\tTHR\n",
      "8\tTRUE\tFALSE\tLEU\n",
      "9\tTRUE\tFALSE\tTHR\n",
      "10\tTRUE\tFALSE\tGLY\n",
      "11\tTRUE\tFALSE\tLYS\n",
      "12\tTRUE\tFALSE\tTHR\n",
      "13\tTRUE\tFALSE\tILE\n",
      "14\tTRUE\tFALSE\tTHR\n",
      "15\tTRUE\tFALSE\tLEU\n",
      "16\tTRUE\tFALSE\tGLU\n",
      "17\tTRUE\tFALSE\tVAL\n",
      "18\tTRUE\tFALSE\tGLU\n",
      "19\tTRUE\tFALSE\tPRO\n",
      "20\tTRUE\tFALSE\tSER\n",
      "21\tTRUE\tFALSE\tASP\n",
      "22\tTRUE\tFALSE\tTHR\n",
      "23\tTRUE\tFALSE\tILE\n",
      "24\tTRUE\tFALSE\tGLU\n",
      "25\tTRUE\tFALSE\tASN\n",
      "26\tTRUE\tFALSE\tVAL\n",
      "27\tTRUE\tFALSE\tLYS\n",
      "28\tTRUE\tFALSE\tALA\n",
      "29\tTRUE\tFALSE\tLYS\n",
      "30\tTRUE\tFALSE\tILE\n",
      "31\tTRUE\tFALSE\tGLN\n",
      "32\tTRUE\tFALSE\tASP\n",
      "33\tTRUE\tFALSE\tLYS\n",
      "34\tTRUE\tFALSE\tGLU\n",
      "35\tTRUE\tFALSE\tGLY\n",
      "36\tTRUE\tFALSE\tILE\n",
      "37\tTRUE\tFALSE\tPRO\n",
      "38\tTRUE\tFALSE\tPRO\n",
      "39\tTRUE\tFALSE\tASP\n",
      "40\tTRUE\tFALSE\tGLN\n",
      "41\tTRUE\tFALSE\tGLN\n",
      "42\tTRUE\tFALSE\tARG\n",
      "43\tTRUE\tFALSE\tLEU\n",
      "44\tTRUE\tFALSE\tILE\n",
      "45\tTRUE\tFALSE\tPHE\n",
      "46\tTRUE\tFALSE\tALA\n",
      "47\tTRUE\tFALSE\tGLY\n",
      "48\tTRUE\tFALSE\tLYS\n",
      "49\tTRUE\tFALSE\tGLN\n",
      "50\tTRUE\tFALSE\tLEU\n",
      "51\tTRUE\tFALSE\tGLU\n",
      "52\tTRUE\tFALSE\tASP\n",
      "53\tTRUE\tFALSE\tGLY\n",
      "54\tTRUE\tFALSE\tARG\n",
      "55\tTRUE\tFALSE\tTHR\n",
      "56\tTRUE\tFALSE\tLEU\n",
      "57\tTRUE\tFALSE\tSER\n",
      "58\tTRUE\tFALSE\tASP\n",
      "59\tTRUE\tFALSE\tTYR\n",
      "60\tTRUE\tFALSE\tASN\n",
      "61\tTRUE\tFALSE\tILE\n",
      "62\tTRUE\tFALSE\tGLN\n",
      "63\tTRUE\tFALSE\tLYS\n",
      "64\tTRUE\tFALSE\tGLU\n",
      "65\tTRUE\tFALSE\tSER\n",
      "66\tTRUE\tFALSE\tTHR\n",
      "67\tTRUE\tFALSE\tLEU\n",
      "68\tTRUE\tFALSE\tHIS,HIS_D\n",
      "69\tTRUE\tFALSE\tLEU\n",
      "70\tTRUE\tFALSE\tVAL\n",
      "71\tTRUE\tFALSE\tLEU\n",
      "72\tTRUE\tFALSE\tARG\n",
      "73\tTRUE\tFALSE\tLEU\n",
      "74\tTRUE\tFALSE\tARG\n",
      "75\tTRUE\tFALSE\tGLY\n",
      "76\tTRUE\tFALSE\tGLY:CtermProteinFull\n",
      "\n"
     ]
    }
   ],
   "source": [
    "print pt"
   ]
  },
  {
   "cell_type": "markdown",
   "metadata": {},
   "source": [
    "Side note - although we will move on to our goal, note here that His has 2 forms. On the left we have HIS and on the right we have HIS_D. If you look at output from Rosetta, you will note that the HIS has a hydrogen attached at the nitrogen atom (called NE2; see the Rosetta database Rosetta/main/database/chemical/residue_type_sets/fa_standard/residue_types/l-caa/HIS.params ). On the right hand side, the hydrogen is attached at the ND1 nitrogen atom, hence HIS_D\n",
    "\n",
    "\n",
    "<table><tr><td><img src='his.png' height='200' width='200'></td><td><img src='his_d.png' height='200' width='200'></td></tr></table>\n",
    "\n"
   ]
  },
  {
   "cell_type": "code",
   "execution_count": 17,
   "metadata": {
    "collapsed": false,
    "scrolled": true
   },
   "outputs": [
    {
     "name": "stdout",
     "output_type": "stream",
     "text": [
      "#Packer_Task\n",
      "\n",
      "resid\tpack?\tdesign?\tallowed_aas\n",
      "1\tTRUE\tFALSE\tMET:NtermProteinFull\n",
      "2\tFALSE\tFALSE\t\n",
      "3\tFALSE\tFALSE\t\n",
      "4\tFALSE\tFALSE\t\n",
      "5\tFALSE\tFALSE\t\n",
      "6\tFALSE\tFALSE\t\n",
      "7\tFALSE\tFALSE\t\n",
      "8\tFALSE\tFALSE\t\n",
      "9\tFALSE\tFALSE\t\n",
      "10\tFALSE\tFALSE\t\n",
      "11\tFALSE\tFALSE\t\n",
      "12\tFALSE\tFALSE\t\n",
      "13\tFALSE\tFALSE\t\n",
      "14\tFALSE\tFALSE\t\n",
      "15\tFALSE\tFALSE\t\n",
      "16\tFALSE\tFALSE\t\n",
      "17\tFALSE\tFALSE\t\n",
      "18\tFALSE\tFALSE\t\n",
      "19\tFALSE\tFALSE\t\n",
      "20\tFALSE\tFALSE\t\n",
      "21\tFALSE\tFALSE\t\n",
      "22\tFALSE\tFALSE\t\n",
      "23\tFALSE\tFALSE\t\n",
      "24\tFALSE\tFALSE\t\n",
      "25\tFALSE\tFALSE\t\n",
      "26\tFALSE\tFALSE\t\n",
      "27\tFALSE\tFALSE\t\n",
      "28\tFALSE\tFALSE\t\n",
      "29\tFALSE\tFALSE\t\n",
      "30\tFALSE\tFALSE\t\n",
      "31\tFALSE\tFALSE\t\n",
      "32\tFALSE\tFALSE\t\n",
      "33\tFALSE\tFALSE\t\n",
      "34\tFALSE\tFALSE\t\n",
      "35\tFALSE\tFALSE\t\n",
      "36\tFALSE\tFALSE\t\n",
      "37\tFALSE\tFALSE\t\n",
      "38\tFALSE\tFALSE\t\n",
      "39\tFALSE\tFALSE\t\n",
      "40\tFALSE\tFALSE\t\n",
      "41\tFALSE\tFALSE\t\n",
      "42\tFALSE\tFALSE\t\n",
      "43\tFALSE\tFALSE\t\n",
      "44\tFALSE\tFALSE\t\n",
      "45\tFALSE\tFALSE\t\n",
      "46\tFALSE\tFALSE\t\n",
      "47\tFALSE\tFALSE\t\n",
      "48\tFALSE\tFALSE\t\n",
      "49\tFALSE\tFALSE\t\n",
      "50\tFALSE\tFALSE\t\n",
      "51\tFALSE\tFALSE\t\n",
      "52\tFALSE\tFALSE\t\n",
      "53\tFALSE\tFALSE\t\n",
      "54\tFALSE\tFALSE\t\n",
      "55\tFALSE\tFALSE\t\n",
      "56\tFALSE\tFALSE\t\n",
      "57\tFALSE\tFALSE\t\n",
      "58\tFALSE\tFALSE\t\n",
      "59\tFALSE\tFALSE\t\n",
      "60\tFALSE\tFALSE\t\n",
      "61\tFALSE\tFALSE\t\n",
      "62\tFALSE\tFALSE\t\n",
      "63\tFALSE\tFALSE\t\n",
      "64\tFALSE\tFALSE\t\n",
      "65\tFALSE\tFALSE\t\n",
      "66\tFALSE\tFALSE\t\n",
      "67\tFALSE\tFALSE\t\n",
      "68\tFALSE\tFALSE\t\n",
      "69\tFALSE\tFALSE\t\n",
      "70\tFALSE\tFALSE\t\n",
      "71\tFALSE\tFALSE\t\n",
      "72\tFALSE\tFALSE\t\n",
      "73\tFALSE\tFALSE\t\n",
      "74\tFALSE\tFALSE\t\n",
      "75\tFALSE\tFALSE\t\n",
      "76\tFALSE\tFALSE\t\n",
      "\n"
     ]
    }
   ],
   "source": [
    "pt.restrict_to_residues(mymask)\n",
    "print pt"
   ]
  },
  {
   "cell_type": "markdown",
   "metadata": {},
   "source": [
    "Almost there! Now we have setup the packer task to just pack the one residue we are interested in.\n",
    "\n",
    "Let's wrap all of that into a function that will take a pose  and residue number (or numbers) and give us back a packer task."
   ]
  },
  {
   "cell_type": "code",
   "execution_count": 18,
   "metadata": {
    "collapsed": false,
    "scrolled": true
   },
   "outputs": [
    {
     "name": "stdout",
     "output_type": "stream",
     "text": [
      "#Packer_Task\n",
      "\n",
      "resid\tpack?\tdesign?\tallowed_aas\n",
      "1\tTRUE\tFALSE\tMET:NtermProteinFull\n",
      "2\tTRUE\tFALSE\tGLN\n",
      "3\tFALSE\tFALSE\t\n",
      "4\tFALSE\tFALSE\t\n",
      "5\tFALSE\tFALSE\t\n",
      "6\tFALSE\tFALSE\t\n",
      "7\tFALSE\tFALSE\t\n",
      "8\tFALSE\tFALSE\t\n",
      "9\tFALSE\tFALSE\t\n",
      "10\tFALSE\tFALSE\t\n",
      "11\tFALSE\tFALSE\t\n",
      "12\tFALSE\tFALSE\t\n",
      "13\tFALSE\tFALSE\t\n",
      "14\tFALSE\tFALSE\t\n",
      "15\tFALSE\tFALSE\t\n",
      "16\tFALSE\tFALSE\t\n",
      "17\tFALSE\tFALSE\t\n",
      "18\tFALSE\tFALSE\t\n",
      "19\tFALSE\tFALSE\t\n",
      "20\tFALSE\tFALSE\t\n",
      "21\tFALSE\tFALSE\t\n",
      "22\tFALSE\tFALSE\t\n",
      "23\tFALSE\tFALSE\t\n",
      "24\tFALSE\tFALSE\t\n",
      "25\tFALSE\tFALSE\t\n",
      "26\tFALSE\tFALSE\t\n",
      "27\tFALSE\tFALSE\t\n",
      "28\tFALSE\tFALSE\t\n",
      "29\tFALSE\tFALSE\t\n",
      "30\tFALSE\tFALSE\t\n",
      "31\tFALSE\tFALSE\t\n",
      "32\tFALSE\tFALSE\t\n",
      "33\tFALSE\tFALSE\t\n",
      "34\tFALSE\tFALSE\t\n",
      "35\tFALSE\tFALSE\t\n",
      "36\tFALSE\tFALSE\t\n",
      "37\tFALSE\tFALSE\t\n",
      "38\tFALSE\tFALSE\t\n",
      "39\tFALSE\tFALSE\t\n",
      "40\tFALSE\tFALSE\t\n",
      "41\tFALSE\tFALSE\t\n",
      "42\tFALSE\tFALSE\t\n",
      "43\tFALSE\tFALSE\t\n",
      "44\tFALSE\tFALSE\t\n",
      "45\tFALSE\tFALSE\t\n",
      "46\tFALSE\tFALSE\t\n",
      "47\tFALSE\tFALSE\t\n",
      "48\tFALSE\tFALSE\t\n",
      "49\tFALSE\tFALSE\t\n",
      "50\tFALSE\tFALSE\t\n",
      "51\tFALSE\tFALSE\t\n",
      "52\tFALSE\tFALSE\t\n",
      "53\tFALSE\tFALSE\t\n",
      "54\tFALSE\tFALSE\t\n",
      "55\tFALSE\tFALSE\t\n",
      "56\tFALSE\tFALSE\t\n",
      "57\tFALSE\tFALSE\t\n",
      "58\tFALSE\tFALSE\t\n",
      "59\tFALSE\tFALSE\t\n",
      "60\tFALSE\tFALSE\t\n",
      "61\tFALSE\tFALSE\t\n",
      "62\tFALSE\tFALSE\t\n",
      "63\tFALSE\tFALSE\t\n",
      "64\tFALSE\tFALSE\t\n",
      "65\tFALSE\tFALSE\t\n",
      "66\tFALSE\tFALSE\t\n",
      "67\tFALSE\tFALSE\t\n",
      "68\tFALSE\tFALSE\t\n",
      "69\tFALSE\tFALSE\t\n",
      "70\tFALSE\tFALSE\t\n",
      "71\tFALSE\tFALSE\t\n",
      "72\tFALSE\tFALSE\t\n",
      "73\tFALSE\tFALSE\t\n",
      "74\tFALSE\tFALSE\t\n",
      "75\tFALSE\tFALSE\t\n",
      "76\tFALSE\tFALSE\t\n",
      "\n"
     ]
    }
   ],
   "source": [
    "def take_pose_restrict_to_repacking_for_residues(p,myres):\n",
    "    tf = rosetta.core.pack.task.TaskFactory()\n",
    "    pt = tf.create_packer_task(p)\n",
    "    \n",
    "    mymask = rosetta.utility.vector1_bool()\n",
    "    for i in range(1,p.total_residue()+1):\n",
    "        if i not in myres:\n",
    "            mymask.append(False)\n",
    "        else:\n",
    "            mymask.append(True)\n",
    "    #print mymask\n",
    "\n",
    "    pt.restrict_to_repacking()\n",
    "    pt.restrict_to_residues(mymask)\n",
    "    return pt\n",
    "\n",
    "mypt = take_pose_restrict_to_repacking_for_residues(p,set([1,2]))\n",
    "print mypt"
   ]
  },
  {
   "cell_type": "code",
   "execution_count": 19,
   "metadata": {
    "collapsed": false
   },
   "outputs": [
    {
     "name": "stdout",
     "output_type": "stream",
     "text": [
      "Mover name: PackRotamersMover, Mover type: PackRotamersMover, Mover current tag:NoTag\n",
      "Score function: talaris2013\n",
      "\n"
     ]
    },
    {
     "data": {
      "text/plain": [
       "71.04022112633915"
      ]
     },
     "execution_count": 19,
     "metadata": {},
     "output_type": "execute_result"
    }
   ],
   "source": [
    "test_pose = rosetta.core.pose.Pose()\n",
    "\n",
    "test_pose.assign(p)\n",
    "\n",
    "packrot = rosetta.protocols.simple_moves.PackRotamersMover(sfxn,mypt)\n",
    "\n",
    "print packrot\n",
    "\n",
    "sfxn(test_pose) #just check to make sure the energies are the same\n",
    "\n",
    "packrot.apply(test_pose)\n",
    "\n",
    "df_test = dataframe_from_pose_and_sfxn(test_pose,sfxn)\n",
    "\n",
    "sfxn(test_pose)"
   ]
  },
  {
   "cell_type": "markdown",
   "metadata": {},
   "source": [
    "Okay! Success, so first off, we see the output from the the core pack where it tells us it repacking at 2 positions and samples 24 rotamers in total - each amino acid type has a certain number of rotamers, and rosetta does some fancy things to sample rotamers efficiently - ref alf paper on the packer\n",
    "\n",
    "And, we also get a new dataframe, so if we diff the starting dataframe and the ending dataframe, the places that changes are residues that interact with position 1 and 2\n",
    "\n",
    "if they didn't interact with those residues, then the energy never would have changed"
   ]
  },
  {
   "cell_type": "code",
   "execution_count": 20,
   "metadata": {
    "collapsed": false
   },
   "outputs": [
    {
     "data": {
      "image/png": "[encoded data removed]",
      "text/plain": [
       "<matplotlib.figure.Figure at 0x7f81a9448590>"
      ]
     },
     "metadata": {},
     "output_type": "display_data"
    }
   ],
   "source": [
    "cmap = sns.color_palette('RdBu',10)\n",
    "\n",
    "diff = df_test - d\n",
    "plt.figure(figsize=(10,10))\n",
    "sns.heatmap(diff, cmap=cmap)\n",
    "plt.show()"
   ]
  },
  {
   "cell_type": "markdown",
   "metadata": {},
   "source": [
    "So that's all well and good, I guess right away you can see that there are a lot of terms that didn't change, there are some drastic changes on residues 1 and 2 and a lot of the changes affected the hbond_lr_bb and hbond_sr_bb terms\n",
    "\n",
    "Let's clean this up and remove any column that didn't change"
   ]
  },
  {
   "cell_type": "code",
   "execution_count": 21,
   "metadata": {
    "collapsed": false
   },
   "outputs": [
    {
     "data": {
      "image/png": "[encoded data removed]",
      "text/plain": [
       "<matplotlib.figure.Figure at 0x7f81a9dbc150>"
      ]
     },
     "metadata": {},
     "output_type": "display_data"
    }
   ],
   "source": [
    "droppedzeros = diff.loc[:,(diff !=0).any(axis=0)]\n",
    "\n",
    "plt.figure(figsize=(10,10))\n",
    "sns.heatmap(droppedzeros, cmap=cmap)\n",
    "plt.show()"
   ]
  },
  {
   "cell_type": "markdown",
   "metadata": {},
   "source": [
    "<a id='section3'></a>\n",
    "## 3 --  Writing a new packing algorithm based on selecting the residue with the worst energy\n",
    "[Take me back to the index](#MainChapterIndex)"
   ]
  },
  {
   "cell_type": "markdown",
   "metadata": {},
   "source": [
    "Okay, so now we have some tools we have built. What can we do with them? We could write differente algorithms to repack protiens and then see which one lowers the energy faster.\n",
    "\n",
    "Let's try this. Let's write an algorithm 1 that will select the residue that has the worst energy, repacks it and then moves on to the next worst in energy residue.\n",
    "\n",
    "Algorithm 2 will select a residue at random and repacking. Which one do you think will work better?\n",
    "\n",
    "One important part of this is determing what we mean by \"worst energy\". Does that mean the highest (most positive) overall energy for the residue? Or does it just mean it has a bad fa_atr, fa_rep or fa_dun score? These are good questions and we can basically test them all. For our purposes, we will choose the highest overall residue energy."
   ]
  },
  {
   "cell_type": "markdown",
   "metadata": {},
   "source": [
    "The really cool thing here, is that because our energies are already in a dataframe, to get the energy per residue number, we just need to sum over the other axis"
   ]
  },
  {
   "cell_type": "code",
   "execution_count": 22,
   "metadata": {
    "collapsed": false
   },
   "outputs": [
    {
     "data": {
      "text/plain": [
       "1    2.170341\n",
       "2    2.016975\n",
       "3   -2.271253\n",
       "4   -1.120740\n",
       "5   -2.640133\n",
       "dtype: float64"
      ]
     },
     "execution_count": 22,
     "metadata": {},
     "output_type": "execute_result"
    }
   ],
   "source": [
    "## Let's see if we did that right.\n",
    "d.sum(axis=1).head()"
   ]
  },
  {
   "cell_type": "code",
   "execution_count": 23,
   "metadata": {
    "collapsed": true
   },
   "outputs": [],
   "source": [
    "# this is a bit \"squished\" but it's easy to recreate\n",
    "# start by summing the energies, then sort them to get the highest value\n",
    "# at the top, then use head(1) to pop off that 1 residue, then pull out of the\n",
    "# result the actual numerical residue number\n",
    "mysum = d.sum(axis=1)\n",
    "residue_with_highest_energy = mysum.sort_values(ascending=False).head(1).index[0]"
   ]
  },
  {
   "cell_type": "code",
   "execution_count": 24,
   "metadata": {
    "collapsed": false
   },
   "outputs": [
    {
     "name": "stdout",
     "output_type": "stream",
     "text": [
      "repacking 1 times with Algo1\n",
      "step -1\n",
      "starting energy 73.5012653727 \n",
      "Repacking this residues - 13\n",
      "energy after repacking at position 13 - 44.0546852853 \n"
     ]
    }
   ],
   "source": [
    "## algorithm 1\n",
    "## start with a fresh copy\n",
    "test_pose = test_pose.assign(p)\n",
    "sfxn(test_pose)\n",
    "numsteps = 1\n",
    "print \"repacking %s times with Algo1\" %numsteps\n",
    "for i in range(1,numsteps+1):\n",
    "    print \"step -%s\" %i\n",
    "    print \"starting energy %s \" %sfxn(test_pose)\n",
    "\n",
    "    en = dataframe_from_pose_and_sfxn(test_pose,sfxn)\n",
    "        \n",
    "    residue_with_highest_energy = en.sum(axis=1).sort_values(ascending=False).head(1).index[0]\n",
    "    print \"Repacking this residues - %s\" %residue_with_highest_energy\n",
    "    \n",
    "    mypt = take_pose_restrict_to_repacking_for_residues(test_pose,[residue_with_highest_energy])\n",
    "    packrot = rosetta.protocols.simple_moves.PackRotamersMover(sfxn,mypt)\n",
    "    packrot.apply(test_pose)\n",
    "    print \"energy after repacking at position %s - %s \" %(residue_with_highest_energy, sfxn(test_pose) )"
   ]
  },
  {
   "cell_type": "markdown",
   "metadata": {},
   "source": [
    "Looks like we're in business. So this allows us to run our first algorithm, the last\n",
    "thing we want is to store the data so that we can plot how the energy changes as it cycles\n",
    "\n",
    "Let's create a dict which stores the index of the step number and the overall protein score"
   ]
  },
  {
   "cell_type": "code",
   "execution_count": 25,
   "metadata": {
    "collapsed": false
   },
   "outputs": [
    {
     "name": "stdout",
     "output_type": "stream",
     "text": [
      "repacking 3 times with Algo1\n",
      "step -1\n",
      "starting energy 73.5012653727 \n",
      "Repacking this residues - 13\n",
      "step -2\n",
      "starting energy 44.0546852853 \n",
      "Repacking this residues - 72\n",
      "step -3\n",
      "starting energy 28.3675298922 \n",
      "Repacking this residues - 39\n"
     ]
    }
   ],
   "source": [
    "## algorithm 1\n",
    "## start with a fresh copy\n",
    "test_pose = test_pose.assign(p)\n",
    "sfxn(test_pose)\n",
    "numsteps = 3\n",
    "listofdata = []\n",
    "print \"repacking %s times with Algo1\" %numsteps\n",
    "for i in range(1,numsteps+1):\n",
    "    print \"step -%s\" %i\n",
    "    print \"starting energy %s \" %sfxn(test_pose)\n",
    "\n",
    "    en = dataframe_from_pose_and_sfxn(test_pose,sfxn)\n",
    "        \n",
    "    residue_with_highest_energy = en.sum(axis=1).sort_values(ascending=False).head(1).index[0]\n",
    "    print \"Repacking this residues - %s\" %residue_with_highest_energy\n",
    "    \n",
    "    mypt = take_pose_restrict_to_repacking_for_residues(test_pose,[residue_with_highest_energy])\n",
    "    packrot = rosetta.protocols.simple_moves.PackRotamersMover(sfxn,mypt)\n",
    "    packrot.apply(test_pose)\n",
    "    listofdata.append(pd.Series({'index' : int(i), 'score' : sfxn(test_pose)}))"
   ]
  },
  {
   "cell_type": "markdown",
   "metadata": {},
   "source": [
    "so we pack 3 times at 3 different positions and store the data in a dict. We can easily plot this using pandas\n"
   ]
  },
  {
   "cell_type": "code",
   "execution_count": 26,
   "metadata": {
    "collapsed": false
   },
   "outputs": [
    {
     "data": {
      "text/plain": [
       "17.847572773758877"
      ]
     },
     "execution_count": 26,
     "metadata": {},
     "output_type": "execute_result"
    },
    {
     "data": {
      "image/png": "[encoded data removed]",
      "text/plain": [
       "<matplotlib.figure.Figure at 0x7f81a85f0d50>"
      ]
     },
     "metadata": {},
     "output_type": "display_data"
    }
   ],
   "source": [
    "s = pd.concat(listofdata,axis=1)\n",
    "s = s.T\n",
    "s.index = s['index']\n",
    "sns.pointplot('index','score',data=s)\n",
    "sfxn(test_pose)"
   ]
  },
  {
   "cell_type": "markdown",
   "metadata": {},
   "source": [
    "So now, let's up the cycles on our algorithm 1 and rerun for 10 steps\n",
    "\n",
    "Why 10 steps? You'll see ;)\n"
   ]
  },
  {
   "cell_type": "code",
   "execution_count": 27,
   "metadata": {
    "collapsed": false,
    "scrolled": true
   },
   "outputs": [
    {
     "name": "stdout",
     "output_type": "stream",
     "text": [
      "repacking 10 times with Algo1\n",
      "step -1\n",
      "starting energy 73.5012653727 \n",
      "Repacking this residues - 13\n",
      "step -2\n",
      "starting energy 44.0546852853 \n",
      "Repacking this residues - 72\n",
      "step -3\n",
      "starting energy 28.3675298922 \n",
      "Repacking this residues - 39\n",
      "step -4\n",
      "starting energy 17.8475727738 \n",
      "Repacking this residues - 74\n",
      "step -5\n",
      "starting energy 10.3811384244 \n",
      "Repacking this residues - 64\n",
      "step -6\n",
      "starting energy 2.51004750134 \n",
      "Repacking this residues - 15\n",
      "step -7\n",
      "starting energy -6.14815844159 \n",
      "Repacking this residues - 42\n",
      "step -8\n",
      "starting energy 2.84383691877 \n",
      "Repacking this residues - 42\n",
      "step -9\n",
      "starting energy 2.84383691877 \n",
      "Repacking this residues - 42\n",
      "step -10\n",
      "starting energy 2.84383691877 \n",
      "Repacking this residues - 42\n"
     ]
    }
   ],
   "source": [
    "## algorithm 1\n",
    "## start with a fresh copy\n",
    "test_pose = test_pose.assign(p)\n",
    "sfxn(test_pose)\n",
    "numsteps = 10\n",
    "listofdata = []\n",
    "print \"repacking %s times with Algo1\" %numsteps\n",
    "for i in range(1,numsteps+1):\n",
    "    print \"step -%s\" %i\n",
    "    print \"starting energy %s \" %sfxn(test_pose)\n",
    "\n",
    "    en = dataframe_from_pose_and_sfxn(test_pose,sfxn)\n",
    "        \n",
    "    residue_with_highest_energy = en.sum(axis=1).sort_values(ascending=False).head(1).index[0]\n",
    "    print \"Repacking this residues - %s\" %residue_with_highest_energy\n",
    "    \n",
    "    mypt = take_pose_restrict_to_repacking_for_residues(test_pose,[residue_with_highest_energy])\n",
    "    packrot = rosetta.protocols.simple_moves.PackRotamersMover(sfxn,mypt)\n",
    "    packrot.apply(test_pose)\n",
    "    listofdata.append(pd.Series({'index' : int(i), 'score' : sfxn(test_pose)}))"
   ]
  },
  {
   "cell_type": "code",
   "execution_count": 28,
   "metadata": {
    "collapsed": false
   },
   "outputs": [
    {
     "data": {
      "text/plain": [
       "<matplotlib.axes._subplots.AxesSubplot at 0x7f81a861f750>"
      ]
     },
     "execution_count": 28,
     "metadata": {},
     "output_type": "execute_result"
    },
    {
     "data": {
      "image/png": "[encoded data removed]",
      "text/plain": [
       "<matplotlib.figure.Figure at 0x7f81a8652810>"
      ]
     },
     "metadata": {},
     "output_type": "display_data"
    }
   ],
   "source": [
    "s = pd.concat(listofdata,axis=1)\n",
    "s = s.T\n",
    "s.index = s['index']\n",
    "sns.pointplot('index','score',data=s);"
   ]
  },
  {
   "cell_type": "markdown",
   "metadata": {},
   "source": [
    "This was going so great! And then it just flattens out and gets stuck!\n",
    "Although this is just an example, this is a real life problem (in a simulation world)\n",
    "\n",
    "<a id='section4'></a>\n",
    "## 4 --  Fixing the packing algorithm when it gets stuck in local energy minima\n",
    "[Take me back to the index](#MainChapterIndex)\n",
    "\n",
    "But we can modify this by adding some randomness into our simulation\n",
    "\n",
    "For example, we can choose the highest energy residue 50% of the time, and the other 50% of the time we will randomly choose a different residue. That way, if we get stuck at least we will get some energy movement\n",
    "\n",
    "See the example below"
   ]
  },
  {
   "cell_type": "code",
   "execution_count": 89,
   "metadata": {
    "collapsed": true
   },
   "outputs": [],
   "source": [
    "import random\n",
    "def high_energy_or_random(p,worstres):\n",
    "    '''\n",
    "    this takes an pose and returns the highest energy residue 50% of the time\n",
    "    and a random residue the other 50% of the time. This is used to illustrate escaping\n",
    "    local energy minima\n",
    "    '''\n",
    "    highenergyornot = random.random()\n",
    "    if highenergyornot < 0.5:\n",
    "        return worstres\n",
    "    else:\n",
    "        return random.randint(1,p.total_residue())"
   ]
  },
  {
   "cell_type": "markdown",
   "metadata": {},
   "source": [
    "Now let's crank up the nsteps and run for 1000 to see how low in energy we can get using this method\n",
    "\n",
    "For a run like this, it might be helpful to mute the core tracer channel (This has already been done for you, just so you are aware).\n",
    "\n",
    "pyrosetta.init(' ** -mute core ** -prevent_repacking T -ignore_unrecognized_res T ')\n"
   ]
  },
  {
   "cell_type": "code",
   "execution_count": 90,
   "metadata": {
    "collapsed": false
   },
   "outputs": [
    {
     "name": "stdout",
     "output_type": "stream",
     "text": [
      "repacking 50 times with Algo1\n"
     ]
    }
   ],
   "source": [
    "## algorithm 1\n",
    "## start with a fresh copy\n",
    "test_pose = rosetta.core.pose.Pose()\n",
    "test_pose = test_pose.assign(p)\n",
    "print sfxn(test_pose)\n",
    "numsteps = 50\n",
    "listofdata = []\n",
    "print \"repacking %s times with Algo1\" %numsteps\n",
    "for i in range(1,numsteps+1):\n",
    "\n",
    "    en = dataframe_from_pose_and_sfxn(test_pose,sfxn)\n",
    "        \n",
    "    residue_with_highest_energy = en.sum(axis=1).sort_values(ascending=False).head(1).index[0]\n",
    "    \n",
    "    residue_with_highest_energy = high_energy_or_random( p, residue_with_highest_energy )\n",
    "    \n",
    "    mypt = take_pose_restrict_to_repacking_for_residues(test_pose,[residue_with_highest_energy])\n",
    "    packrot = rosetta.protocols.simple_moves.PackRotamersMover(sfxn,mypt)\n",
    "    packrot.apply(test_pose)\n",
    "    listofdata.append(pd.Series({'index' : int(i), 'score' : sfxn(test_pose)}))\n",
    "    "
   ]
  },
  {
   "cell_type": "code",
   "execution_count": 91,
   "metadata": {
    "collapsed": false
   },
   "outputs": [
    {
     "data": {
      "image/png": "[encoded data removed]",
      "text/plain": [
       "<matplotlib.figure.Figure at 0x7f81a64307d0>"
      ]
     },
     "metadata": {},
     "output_type": "display_data"
    }
   ],
   "source": [
    "s = pd.concat(listofdata,axis=1)\n",
    "s = s.T\n",
    "s.index = s['index']\n",
    "\n",
    "ax = sns.pointplot('index','score',data=s)\n",
    "ax.xaxis.set_major_locator(ticker.MultipleLocator(5))\n",
    "ax.xaxis.set_major_formatter(ticker.ScalarFormatter())"
   ]
  },
  {
   "cell_type": "markdown",
   "metadata": {},
   "source": [
    "Well, I promised an algorithm 2 (even though we had to add randomness by necessity). This time, I'll take what we just executed, but instead of using the worst energy residue, I'll just pick at random."
   ]
  },
  {
   "cell_type": "code",
   "execution_count": 92,
   "metadata": {
    "collapsed": false
   },
   "outputs": [
    {
     "name": "stdout",
     "output_type": "stream",
     "text": [
      "73.5012653727\n",
      "repacking 50 times with Algo2\n"
     ]
    }
   ],
   "source": [
    "## algorithm 2\n",
    "## start with a fresh copy\n",
    "test_pose = rosetta.core.pose.Pose()\n",
    "test_pose = test_pose.assign(p)\n",
    "print sfxn(test_pose)\n",
    "numsteps = 50\n",
    "listofdata = []\n",
    "print \"repacking %s times with Algo2\" %numsteps\n",
    "for i in range(1,numsteps+1):\n",
    "\n",
    "    en = dataframe_from_pose_and_sfxn(test_pose,sfxn)\n",
    "\n",
    "# Turn this off, I don't care which one is worse in energy\n",
    "#    residue_with_highest_energy = en.sum(axis=1).sort_values(ascending=False).head(1).index[0]\n",
    "#    residue_with_highest_energy = high_energy_or_random( p, residue_with_highest_energy )\n",
    "\n",
    "    randomresidue = random.randint(1,p.total_residue())\n",
    "\n",
    "    mypt = take_pose_restrict_to_repacking_for_residues(test_pose,[randomresidue])\n",
    "    packrot = rosetta.protocols.simple_moves.PackRotamersMover(sfxn,mypt)\n",
    "    packrot.apply(test_pose)\n",
    "    listofdata.append(pd.Series({'index' : int(i), 'score' : sfxn(test_pose)}))"
   ]
  },
  {
   "cell_type": "code",
   "execution_count": 93,
   "metadata": {
    "collapsed": false
   },
   "outputs": [
    {
     "data": {
      "image/png": "[encoded data removed]",
      "text/plain": [
       "<matplotlib.figure.Figure at 0x7f81a97a4a10>"
      ]
     },
     "metadata": {},
     "output_type": "display_data"
    }
   ],
   "source": [
    "s = pd.concat(listofdata,axis=1)\n",
    "s = s.T\n",
    "s.index = s['index']\n",
    "\n",
    "ax = sns.pointplot('index','score',data=s)\n",
    "ax.xaxis.set_major_locator(ticker.MultipleLocator(5))\n",
    "ax.xaxis.set_major_formatter(ticker.ScalarFormatter())"
   ]
  },
  {
   "cell_type": "markdown",
   "metadata": {},
   "source": [
    "Just from this we should be able to see that algorithm 1 is more efficient. It jumps very quickly to a low energy, but it does have it's problems (like getting stuck). Algorithm 2 on the other hand seems to just march down in energy. I wonder who would win in the long run?\n",
    "\n",
    "If you so desire, save out the code from the notebook as a .py script and run it on your local cluster. You will have to clean things up, but the notebooks tend to crash from memory issues when you run a large number of cycles."
   ]
  },
  {
   "cell_type": "markdown",
   "metadata": {},
   "source": [
    "___\n",
    "\n",
    "That's it!\n",
    "\n",
    "We learned how to \n",
    "\n",
    "[1](#section1)- breakdown rosetta's energy for each residue \n",
    "\n",
    "[2](#section2)- Create a packer task and modify it to only pack residues we wanted\n",
    "\n",
    "[3](#section3)- extract data from our rosetta run to plot energies\n",
    "\n",
    "[4](#section4)- modify/ make decisions based on our ideas\n",
    "\n",
    "And along the way we plotted our results!\n",
    "\n",
    "[Click Here to goto this chapters index](#MainChapterIndex)\n",
    "\n"
   ]
  },
  {
   "cell_type": "markdown",
   "metadata": {},
   "source": [
    "@author Steve J Bertolani"
   ]
  }
 ],
 "metadata": {
  "anaconda-cloud": {},
  "kernelspec": {
   "display_name": "Python [default]",
   "language": "python",
   "name": "python2"
  },
  "language_info": {
   "codemirror_mode": {
    "name": "ipython",
    "version": 2
   },
   "file_extension": ".py",
   "mimetype": "text/x-python",
   "name": "python",
   "nbconvert_exporter": "python",
   "pygments_lexer": "ipython2",
   "version": "2.7.12"
  }
 },
 "nbformat": 4,
 "nbformat_minor": 2
}
