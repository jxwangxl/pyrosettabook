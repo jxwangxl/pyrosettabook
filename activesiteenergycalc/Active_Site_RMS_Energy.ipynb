{
 "cells": [
  {
   "cell_type": "code",
   "execution_count": null,
   "metadata": {
    "collapsed": true
   },
   "outputs": [],
   "source": [
    "(c) Copyright Rosetta Commons Member Institutions.\n",
    "(c) This file is part of the Rosetta software suite and is made available under license.\n",
    "(c) The Rosetta software is developed by the contributing members of the Rosetta Commons.\n",
    "(c) For more information, see http://www.rosettacommons.org. Questions about this can be\n",
    "(c) addressed to University of Washington CoMotion, email: license@uw.edu."
   ]
  },
  {
   "cell_type": "markdown",
   "metadata": {},
   "source": [
    "## Older PyRosetta bindings\n",
    "\n",
    "## Active Site Energy RMSD Calculation\n",
    "\n",
    "The goal here is to be able to calculate and energy vs rmsd plot (like what is done for protein folding) to look for a funnel (which indicates convergence of sampling). Here, we want to look at the sampling in the active site by comparing the crystal structure 5EAT to a model made using other templates.\n",
    "\n",
    "This will take the follwing steps to complete:\n",
    "\n",
    "1. We must read in the 2 proteins\n",
    "2. We must be able to access the ligand information in the crystal structure to be able to define the active site\n",
    "3. We must then overlay the proteins (TMalign)\n",
    "4. Then we need the sequence mapping from crystal to model (because I didn't do any cleanup)  \n",
    "5. Once we have the sets of equivalent residues, we can loop over and calculate the rms   \n",
    "6. Using the same set, we can pull from our energy object the per residue energies for the active site residues\n",
    "7. Plot!\n"
   ]
  },
  {
   "cell_type": "markdown",
   "metadata": {},
   "source": [
    "---\n",
    "\n",
    "\n",
    "## Step 1 - Get your Rosetta engine's running!\n"
   ]
  },
  {
   "cell_type": "code",
   "execution_count": null,
   "metadata": {
    "collapsed": true
   },
   "outputs": [],
   "source": [
    "from rosetta import *"
   ]
  },
  {
   "cell_type": "markdown",
   "metadata": {},
   "source": [
    "Now that we've imported rosetta, we need to start it. You can pass in *any* command line arguments here to rosetta."
   ]
  },
  {
   "cell_type": "code",
   "execution_count": null,
   "metadata": {
    "collapsed": false
   },
   "outputs": [],
   "source": [
    "rosetta.init('-remember_unrecognized_res T -ignore_waters T -extra_res_fa X00.params')"
   ]
  },
  {
   "cell_type": "markdown",
   "metadata": {},
   "source": [
    "Here's how to construct a pose from a file"
   ]
  },
  {
   "cell_type": "code",
   "execution_count": null,
   "metadata": {
    "collapsed": false
   },
   "outputs": [],
   "source": [
    "crystal = pose_from_file('5eat.pdb')"
   ]
  },
  {
   "cell_type": "code",
   "execution_count": null,
   "metadata": {
    "collapsed": false
   },
   "outputs": [],
   "source": [
    "info = crystal.pdb_info()\n",
    "print info.get_unrecognized_atoms()"
   ]
  },
  {
   "cell_type": "code",
   "execution_count": null,
   "metadata": {
    "collapsed": false
   },
   "outputs": [],
   "source": [
    "model = pose_from_file('S_0009.pdb')"
   ]
  },
  {
   "cell_type": "markdown",
   "metadata": {},
   "source": [
    "Let's check out what our pose objects look like. Note: you can verify they are of type Pose by using the pythonic type(crystal)"
   ]
  },
  {
   "cell_type": "code",
   "execution_count": null,
   "metadata": {
    "collapsed": false
   },
   "outputs": [],
   "source": [
    "print type(crystal)"
   ]
  },
  {
   "cell_type": "code",
   "execution_count": null,
   "metadata": {
    "collapsed": false
   },
   "outputs": [],
   "source": [
    "print crystal # Note, if you don't want the waters, add the flag -ignore_waters T and restart the rosetta.init"
   ]
  },
  {
   "cell_type": "markdown",
   "metadata": {},
   "source": [
    "So by default, we get the residues, sequence and fold tree"
   ]
  },
  {
   "cell_type": "code",
   "execution_count": null,
   "metadata": {
    "collapsed": false
   },
   "outputs": [],
   "source": [
    "print model"
   ]
  },
  {
   "cell_type": "markdown",
   "metadata": {},
   "source": [
    "So it looks like there are 3 extra residues in the crystal structure (+ the ligand which is stored somewhere). Let's find the ligand data...."
   ]
  },
  {
   "cell_type": "markdown",
   "metadata": {},
   "source": [
    "---\n",
    "\n",
    "## Step 2 - Get ligand information from pose"
   ]
  },
  {
   "cell_type": "markdown",
   "metadata": {},
   "source": [
    "#### Note: EXAMPLE\n",
    "\n",
    "This section is  a perfect example of interactively finding the information you need from rosetta objects. Start with the pose.pdb_info() object. Store that object to  a new object to get autocompletion to work. Then step into that object and find useful sounding functions (like anything with unrecognized atoms ). The loop over the UA records, store the objects and after executing the cell, we should be able to autocomplete those too!\n",
    "\n",
    "Task - \n",
    "\n",
    "*Start* with pdbinfo = crystal.pdb_info()\n",
    "\n",
    "*End* with a list of the residues that are in our active site (numbered by the crystal pose)"
   ]
  },
  {
   "cell_type": "code",
   "execution_count": null,
   "metadata": {
    "collapsed": false
   },
   "outputs": [],
   "source": [
    "crystalpdbinfo = crystal.pdb_info()\n",
    "ua = crystalpdbinfo.get_unrecognized_atoms()\n",
    "for i in ua:\n",
    "    print i.coords()"
   ]
  },
  {
   "cell_type": "code",
   "execution_count": null,
   "metadata": {
    "collapsed": false
   },
   "outputs": [],
   "source": [
    "### This could be improved with CA selections, (or using Rosetta selections/taskoperations)\n",
    "\n",
    "crystalpdbinfo = crystal.pdb_info()\n",
    "print crystalpdbinfo.get_num_unrecognized_atoms()\n",
    "\n",
    "\n",
    "ua = crystalpdbinfo.get_unrecognized_atoms()\n",
    "\n",
    "activesiteresnumberset = set()\n",
    "cutoff = 8\n",
    "\n",
    "for i in ua:\n",
    "    ligcoords = i.coords()\n",
    "    for j in range(1,crystal.n_residue()+1):\n",
    "        resj = crystal.residue( j )\n",
    "        for k in resj.atoms():\n",
    "            disttolig = ligcoords.distance( k.xyz() )  ## Note, type information and methods are in the .hh files in rosetta\n",
    "            if disttolig < cutoff:\n",
    "                activesiteresnumberset.add(int(j) )  \n",
    "\n",
    "print activesiteresnumberset"
   ]
  },
  {
   "cell_type": "code",
   "execution_count": null,
   "metadata": {
    "collapsed": false
   },
   "outputs": [],
   "source": [
    "print len(activesiteresnumberset)"
   ]
  },
  {
   "cell_type": "code",
   "execution_count": null,
   "metadata": {
    "collapsed": false,
    "scrolled": true
   },
   "outputs": [],
   "source": [
    "mycrystalpdbnumberset = set()\n",
    "for i in list(activesiteresnumberset):\n",
    "    mycrystalpdbnumberset.add(crystalpdbinfo.pose2pdb(i) )\n",
    "    print \"Pose Number %s <-----> Crystal Number %s\" %(i,crystalpdbinfo.pose2pdb(i))"
   ]
  },
  {
   "cell_type": "code",
   "execution_count": null,
   "metadata": {
    "collapsed": false
   },
   "outputs": [],
   "source": [
    "## Side bar on comparing with Pymol selection: Sort for readability\n",
    "#mylist = list(mycrystalpdbnumberset)\n",
    "#sorted(mylist,key=lambda x: int(x[:3]))"
   ]
  },
  {
   "cell_type": "markdown",
   "metadata": {},
   "source": [
    "---\n",
    "\n",
    "## Step 3 - Overlay the proteins for the rms calc\n",
    "\n",
    "Here, we will just use Tmalign (in Pyrosetta.... see c++ (hybridize.cc for example translation). This previously did not work in pyrosetta because one of the functions called needed to be passed a reference, this has been fixed, for details see <https://github.com/RosettaCommons/main/pull/968> as an example of fixing these kinds of errors. In this case, we simple write another function signature without the need to use the reference. We alternatively could have made getters/setters for the object or we could have written the tmalign(pose1, pose2) into the c++ and called it from the util.hh\n",
    "\n",
    "For the sake of brevity, these details are left to the Pyrosetta : TMalign tutorial\n",
    "\n",
    "We are also now going to turn on the Pymol observer and scorefunction so that we can visualize the movements"
   ]
  },
  {
   "cell_type": "code",
   "execution_count": null,
   "metadata": {
    "collapsed": false
   },
   "outputs": [],
   "source": [
    "from sjb_util import tmalign\n",
    "\n",
    "pymovercryst = PyMOL_Mover() \n",
    "pymovercryst.apply(crystal)\n",
    "pymovercryst.keep_history(True)\n",
    "pymovermodel = PyMOL_Mover()"
   ]
  },
  {
   "cell_type": "markdown",
   "metadata": {},
   "source": [
    "Now you should be able to see the crystal structure in Pymol\n",
    "Let's add another pymol mover to the model"
   ]
  },
  {
   "cell_type": "code",
   "execution_count": null,
   "metadata": {
    "collapsed": false
   },
   "outputs": [],
   "source": [
    "pymovermodel = PyMOL_Mover() \n",
    "pymovermodel.apply(model)\n",
    "pymovermodel.keep_history(True)"
   ]
  },
  {
   "cell_type": "code",
   "execution_count": null,
   "metadata": {
    "collapsed": false
   },
   "outputs": [],
   "source": [
    "from sjb_util import tmalign\n",
    "atommap , tm = tmalign(model,crystal)"
   ]
  },
  {
   "cell_type": "code",
   "execution_count": null,
   "metadata": {
    "collapsed": true
   },
   "outputs": [],
   "source": [
    "pymovermodel.apply(model)"
   ]
  },
  {
   "cell_type": "markdown",
   "metadata": {
    "collapsed": true
   },
   "source": [
    "---\n",
    "\n",
    "## Step 4 - Map the active site residues in the crystal to the residues in the model\n",
    "\n"
   ]
  },
  {
   "cell_type": "code",
   "execution_count": null,
   "metadata": {
    "collapsed": false
   },
   "outputs": [],
   "source": [
    "print atommap"
   ]
  },
  {
   "cell_type": "markdown",
   "metadata": {},
   "source": [
    "This next cell is more about seeing what's in the atomid_map< atomid > object. Because We tmaligned model onto pose, the map jth value referes to the CA of the model and we have to atommap.get(jthmodelvalue) to get the crystal value."
   ]
  },
  {
   "cell_type": "code",
   "execution_count": null,
   "metadata": {
    "collapsed": false
   },
   "outputs": [],
   "source": [
    "for i in range(1,model.n_residue()+1):\n",
    "    if model.residue(i).is_protein():\n",
    "        atom_id_CA_resi = rosetta.core.id.AtomID( model.residue(i).atom_index(\"CA\"),i)\n",
    "        print \"Model CA %s  maps to Crystal CA %s \" %(atom_id_CA_resi.rsd(), atommap.get(atom_id_CA_resi).rsd())"
   ]
  },
  {
   "cell_type": "code",
   "execution_count": null,
   "metadata": {
    "collapsed": false
   },
   "outputs": [],
   "source": [
    "model_map_to_crystal = dict()\n",
    "for i in list(activesiteresnumberset):\n",
    "    try:\n",
    "        if model.residue(i).is_protein():\n",
    "            atom_id_CA_resi = rosetta.core.id.AtomID( model.residue(i).atom_index(\"CA\"),i)\n",
    "            print \"Model CA %s  maps to Crystal CA %s \" %(atom_id_CA_resi.rsd(), atommap.get(atom_id_CA_resi).rsd())\n",
    "            model_map_to_crystal[atom_id_CA_resi.rsd()] = atommap.get(atom_id_CA_resi).rsd()\n",
    "    except:\n",
    "        print \"ERROR %s\" %i # Dies on the metal ions\n",
    "        pass"
   ]
  },
  {
   "cell_type": "markdown",
   "metadata": {
    "collapsed": true
   },
   "source": [
    "## Step 5 - Calculate RMS"
   ]
  },
  {
   "cell_type": "markdown",
   "metadata": {},
   "source": [
    "### Manual RMS - ()?"
   ]
  },
  {
   "cell_type": "code",
   "execution_count": null,
   "metadata": {
    "collapsed": false
   },
   "outputs": [],
   "source": [
    "#print model_map_to_crystal\n",
    "running_activesite_rms = 0.0\n",
    "natoms = 0.0\n",
    "\n",
    "running_activesite_rms_lig = 0.0\n",
    "nligatoms = 0.0\n",
    "\n",
    "running_activesite_rms_ca = 0.0\n",
    "ncaatoms = 0.0\n",
    "\n",
    "for i in model_map_to_crystal.iterkeys():   ## iter over the active site residues\n",
    "    modelresi = model.residue(i)\n",
    "    crystalresi = crystal.residue(model_map_to_crystal[i]) # Get the crystal mapped residue\n",
    "    assert modelresi.name3() == crystalresi.name3(), \"These are different residues~!\"\n",
    "    for j in range(1,crystalresi.natoms()):     # loop over atoms in crystal\n",
    "        if not crystalresi.atom_is_hydrogen( j ):  #skip the hydrogens\n",
    "            atomcrystal = crystalresi.atom(j)   \n",
    "\n",
    "            for l in range(1,modelresi.natoms()): #loop over atoms in model\n",
    "                if not modelresi.atom_is_hydrogen( l ): #skip hydrogens\n",
    "                    atommodel = modelresi.atom(l)\n",
    "                    \n",
    "                    \n",
    "                    if (crystalresi.atom_name(j) == modelresi.atom_name(l)): # same type of atom\n",
    "                        rms_j_l = atommodel.xyz().distance( atomcrystal.xyz() )\n",
    "                   \n",
    "                        running_activesite_rms += rms_j_l\n",
    "                        natoms += 1.0\n",
    "                        \n",
    "                        # Ca active site rsmd counters here\n",
    "                        if modelresi.atom_name(j) == ' CA ':\n",
    "                        \n",
    "                            rms_jca_lca = atommodel.xyz().distance( atomcrystal.xyz() )\n",
    "                            running_activesite_rms_ca += rms_jca_lca\n",
    "                            ncaatoms +=1\n",
    "                        \n",
    "print \"Over %s atoms in active site\" %natoms\n",
    "print (running_activesite_rms)/(natoms)\n",
    "\n",
    "print \"Over %s CA atoms  in active site \" %ncaatoms #this should be 55 - 3 metals\n",
    "print (running_activesite_rms_ca)/(ncaatoms)"
   ]
  },
  {
   "cell_type": "markdown",
   "metadata": {},
   "source": [
    "## There's our RMS"
   ]
  },
  {
   "cell_type": "markdown",
   "metadata": {},
   "source": [
    "To review, since this is a bit messy, we are hand calculating the rms for the heavy atoms that we define as our active site. We loop over the residue numbers and access the Residue() objects. We make sure the residue names are the same. Then we access each Residue().Atom(i) object by value. We remove hydrogens by checking the Residue level object using the method atom_is_hydrogen(i) which is indexed the sames. The reason we do this is because the Atom object that is attached here lacks a lot of information.\n",
    "\n",
    "A better way to do this would be to lookup the atom type based on the Residue().Atom(i).type() and see if it's a hydrogen."
   ]
  },
  {
   "cell_type": "markdown",
   "metadata": {},
   "source": [
    "---\n",
    "## Step 6 - Energy for the Active site residues\n",
    "\n",
    "Now we have the rms, we just need to access the energies for those residues and add them up!\n",
    "We will do this using a score method (see the Scoring Pyrosetta Tutorial) for details. But basically this populates a pandas Dataframe with the indices equal to the residue number (of the model, which is what we care about)\n"
   ]
  },
  {
   "cell_type": "code",
   "execution_count": null,
   "metadata": {
    "collapsed": false
   },
   "outputs": [],
   "source": [
    "import pandas as pd\n",
    "from rosetta.core.scoring.methods import EnergyMethodOptions\n",
    "\n",
    "sfxn = get_fa_scorefxn()  #get a scorefunction (default talaris2013)\n",
    "talaris2013_energy_methods = sfxn.energy_method_options() #have to copy the default energy methods from talaris first\n",
    "emo = EnergyMethodOptions( talaris2013_energy_methods)    #must do this to get per res hbond_bb terms in breakdown\n",
    "emo.hbond_options().decompose_bb_hb_into_pair_energies( True )  # set to true, defaults False\n",
    "sfxn.set_energy_method_options( emo ) #set the sfxn up with the energy method options\n",
    "print sfxn(model)\n",
    "\n",
    "score_types = []\n",
    "for i in range(1, rosetta.core.scoring.end_of_score_type_enumeration+1):\n",
    "    ii = rosetta.core.scoring.ScoreType(i)\n",
    "    if model.energies().weights()[ii] != 0: score_types.append(ii)\n",
    "        \n",
    "listofseries = []\n",
    "for j in range(1,model.total_residue()+1):\n",
    "    mydict = {}\n",
    "    for i in score_types:\n",
    "        myweight = model.energies().weights()[i]\n",
    "        mydict['%s' %core.scoring.ScoreTypeManager.name_from_score_type(i)] = myweight*model.energies().residue_total_energies(j)[i]\n",
    "\n",
    "    listofseries.append( pd.Series(mydict))\n",
    "\n",
    "df = pd.DataFrame(listofseries)\n",
    "df.index +=1 #makes index start at 1, not 0. Now, each row refers to its proper residue number (ie resi =1 -> row1)\n",
    "df = df.T # Need to do this to be able to access per resi energy with df[[1]] indexing\n",
    "print model.n_residue() # Just to check the lengths are the same"
   ]
  },
  {
   "cell_type": "markdown",
   "metadata": {},
   "source": [
    "Now we just subselect the active site residues from the df object"
   ]
  },
  {
   "cell_type": "code",
   "execution_count": null,
   "metadata": {
    "collapsed": false
   },
   "outputs": [],
   "source": [
    "# Then just add a .sum(), okay, now just add 1 more .sum()\n",
    "df[ [x for x in model_map_to_crystal.iterkeys()] ].sum().sum()"
   ]
  },
  {
   "cell_type": "markdown",
   "metadata": {},
   "source": [
    "## There's our active site energy!"
   ]
  },
  {
   "cell_type": "markdown",
   "metadata": {},
   "source": [
    "Now we could wrap this all into a nice function, add some tests, and run on all 10000 docking trajectories."
   ]
  },
  {
   "cell_type": "code",
   "execution_count": null,
   "metadata": {
    "collapsed": true
   },
   "outputs": [],
   "source": []
  }
 ],
 "metadata": {
  "anaconda-cloud": {},
  "kernelspec": {
   "display_name": "Python [default]",
   "language": "python",
   "name": "python2"
  },
  "language_info": {
   "codemirror_mode": {
    "name": "ipython",
    "version": 2
   },
   "file_extension": ".py",
   "mimetype": "text/x-python",
   "name": "python",
   "nbconvert_exporter": "python",
   "pygments_lexer": "ipython2",
   "version": "2.7.12"
  }
 },
 "nbformat": 4,
 "nbformat_minor": 0
}
